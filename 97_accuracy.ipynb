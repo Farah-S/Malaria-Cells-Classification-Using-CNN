{
  "cells": [
    {
      "cell_type": "code",
      "source": [
        "# !mkdir -p cells\n",
        "# !gcsfuse --implicit-dirs --limit-bytes-per-sec -1 --limit-ops-per-sec -1 malaria-cells cells"
      ],
      "metadata": {
        "id": "3Vazaqbwr69t"
      },
      "execution_count": null,
      "outputs": []
    },
    {
      "cell_type": "code",
      "execution_count": null,
      "metadata": {
        "id": "xwEH_0sG1beB"
      },
      "outputs": [],
      "source": [
        "import numpy as np # linear algebra\n",
        "import pandas as pd # data processing, CSV file I/O (e.g. pd.read_csv)\n",
        "import cv2\n",
        "import matplotlib.pyplot as plt\n",
        "from google.colab.patches import cv2_imshow \n",
        "import keras\n",
        "from keras.models import Sequential\n",
        "from keras.layers import Dense, Activation, Dropout, Flatten, Conv2D, MaxPooling2D, AveragePooling2D\n",
        "# from keras.layers.normalization import BatchNormalization\n",
        "from tensorflow.keras.layers import BatchNormalization\n",
        "import os\n",
        "from sklearn.model_selection import train_test_split\n",
        "\n",
        "\n",
        "from sklearn.metrics import confusion_matrix\n",
        "from sklearn.metrics import classification_report"
      ]
    },
    {
      "cell_type": "code",
      "execution_count": null,
      "metadata": {
        "colab": {
          "base_uri": "https://localhost:8080/"
        },
        "id": "cHNC7-PF-MXq",
        "outputId": "a91ba853-8509-4e86-e0eb-532ddcb6309f"
      },
      "outputs": [
        {
          "output_type": "stream",
          "name": "stdout",
          "text": [
            "0\n",
            "1000\n",
            "2000\n",
            "3000\n",
            "4000\n",
            "5000\n",
            "6000\n",
            "7000\n",
            "8000\n",
            "9000\n",
            "10000\n",
            "11000\n",
            "12000\n",
            "13000\n",
            "13779\n",
            "13779\n"
          ]
        }
      ],
      "source": [
        "parasitized=0\n",
        "allImages=[]\n",
        "labels=[]\n",
        "for dirname, _, filenames in os.walk('/content/cells/cell_images/Parasitized'):\n",
        "    for filename in filenames:\n",
        "        img = cv2.imread(os.path.join(dirname,filename))\n",
        "        # print(filename)\n",
        "        \n",
        "        if parasitized %1000==0:\n",
        "            print(parasitized)\n",
        "        if img is None :\n",
        "            print('not img')\n",
        "            continue\n",
        "            \n",
        "        img_resized = cv2.resize(img,(180, 180))\n",
        "        allImages.append(img_resized)\n",
        "\n",
        "        labels.append(1)\n",
        "        parasitized+=1\n",
        "\n",
        "print(len(allImages))\n",
        "print(len(labels))"
      ]
    },
    {
      "cell_type": "code",
      "execution_count": null,
      "metadata": {
        "id": "7uduKjTItiIk",
        "colab": {
          "base_uri": "https://localhost:8080/"
        },
        "outputId": "06524eb2-a7a8-40c0-886d-a60e5c1aab15"
      },
      "outputs": [
        {
          "output_type": "stream",
          "name": "stdout",
          "text": [
            "0\n",
            "1000\n",
            "2000\n",
            "3000\n",
            "4000\n",
            "5000\n",
            "6000\n",
            "7000\n",
            "8000\n",
            "9000\n",
            "10000\n",
            "11000\n",
            "12000\n",
            "13000\n"
          ]
        }
      ],
      "source": [
        "# print(len(parasitized))\n",
        "uninfected=0\n",
        "for dirname, _, filenames in os.walk('/content/cells/cell_images/Uninfected'):\n",
        "    for filename in filenames:\n",
        "        img = cv2.imread(os.path.join(dirname,filename))\n",
        "        # print(filename)\n",
        "        \n",
        "        if img is None :\n",
        "            print('not img')\n",
        "            continue\n",
        "        if uninfected %1000==0:\n",
        "            print(uninfected)\n",
        "        img_resized = cv2.resize(img,(180, 180))#224\n",
        "        \n",
        "        allImages.append(img_resized)\n",
        "        labels.append(0)\n",
        "        uninfected+=1\n",
        "        "
      ]
    },
    {
      "cell_type": "code",
      "execution_count": null,
      "metadata": {
        "id": "Er5vDgvgvL1S",
        "colab": {
          "base_uri": "https://localhost:8080/"
        },
        "outputId": "0cedcbcf-3a0d-4287-efc5-e351ec383ed0"
      },
      "outputs": [
        {
          "output_type": "stream",
          "name": "stdout",
          "text": [
            "13779\n",
            "13779\n",
            "27558\n",
            "27558\n",
            "27558\n"
          ]
        }
      ],
      "source": [
        "print(parasitized)\n",
        "print(uninfected)\n",
        "print(parasitized+uninfected)\n",
        "print(len(allImages))\n",
        "print(len(labels))"
      ]
    },
    {
      "cell_type": "code",
      "execution_count": null,
      "metadata": {
        "id": "gp4Au-NstYV8"
      },
      "outputs": [],
      "source": [
        "allImages = np.array(allImages)"
      ]
    },
    {
      "cell_type": "code",
      "execution_count": null,
      "metadata": {
        "id": "8kc_jLi6cdUm"
      },
      "outputs": [],
      "source": [
        "from sklearn.preprocessing import LabelEncoder\n",
        "le = LabelEncoder()\n",
        "labels = le.fit_transform(labels)"
      ]
    },
    {
      "cell_type": "code",
      "execution_count": null,
      "metadata": {
        "id": "Aa4vwaiBfsMB"
      },
      "outputs": [],
      "source": [
        "#using all features\n",
        "x_train, x_test, y_train, y_test = train_test_split(allImages, labels, test_size=0.25, random_state=2, stratify=labels)\n",
        "x_train, x_val, y_train, y_val = train_test_split(x_train, y_train, test_size=0.25, random_state=2, stratify=y_train) "
      ]
    },
    {
      "cell_type": "code",
      "execution_count": null,
      "metadata": {
        "id": "uWIqxRnbcwWO"
      },
      "outputs": [],
      "source": [
        "from keras.callbacks import ReduceLROnPlateau,EarlyStopping\n",
        "lrr= ReduceLROnPlateau(monitor='loss',   factor=0.5,   patience=3,  min_lr=1e-5) \n",
        "earlystop = EarlyStopping(monitor='val_loss', patience=10,restore_best_weights=True) #"
      ]
    },
    {
      "cell_type": "code",
      "execution_count": null,
      "metadata": {
        "id": "Ld7Lqb1HiK-7"
      },
      "outputs": [],
      "source": [
        "from keras.preprocessing.image import ImageDataGenerator\n",
        "train_generator = ImageDataGenerator(zoom_range=0.5,rotation_range=90,fill_mode='nearest',)\n",
        "val_generator = ImageDataGenerator(zoom_range=0.5,rotation_range=90,fill_mode='nearest',)\n",
        "# test_generator = ImageDataGenerator(zoom_range=0.5,rotation_range=90,fill_mode='nearest',)"
      ]
    },
    {
      "cell_type": "code",
      "source": [
        "batch_size= 128 #110  \n",
        "epochs=100 #10"
      ],
      "metadata": {
        "id": "Ya77glZN2Crw"
      },
      "execution_count": null,
      "outputs": []
    },
    {
      "cell_type": "markdown",
      "source": [
        "### **CNN**"
      ],
      "metadata": {
        "id": "EmkXYKsPShLN"
      }
    },
    {
      "cell_type": "markdown",
      "metadata": {
        "id": "7s3bqKnZ2wQG"
      },
      "source": [
        "**Batch normalization** is a layer that allows every layer of the network to do learning more independently. It is used to normalize the output of the previous layers, it can be used as regularization to avoid overfitting of the model"
      ]
    },
    {
      "cell_type": "markdown",
      "metadata": {
        "id": "Mwa38Hx-3RHE"
      },
      "source": [
        "**Dropouts** are added to randomly switching some percentage of neurons of the network, When the neurons are switched off the incoming and outgoing connection to those neurons is also switched off."
      ]
    },
    {
      "cell_type": "markdown",
      "metadata": {
        "id": "QIWRBT923vfa"
      },
      "source": [
        "**Max pooling** is a pooling operation that selects the maximum element from the region of the feature map covered by the filter. Thus, the output would be a feature map containing the most prominent features. Pooling layers are used to reduce the dimensions of the feature maps. Thus, it reduces the number of parameters to learn and the amount of computation performed in the network"
      ]
    },
    {
      "cell_type": "code",
      "execution_count": null,
      "metadata": {
        "id": "Q8qUG24qRef8",
        "colab": {
          "base_uri": "https://localhost:8080/"
        },
        "outputId": "e772b255-a209-4267-ecf7-4d7820cd9e4d"
      },
      "outputs": [
        {
          "output_type": "stream",
          "name": "stdout",
          "text": [
            "Model: \"sequential_1\"\n",
            "_________________________________________________________________\n",
            " Layer (type)                Output Shape              Param #   \n",
            "=================================================================\n",
            " conv2d_3 (Conv2D)           (None, 90, 90, 96)        2688      \n",
            "                                                                 \n",
            " batch_normalization_5 (Batc  (None, 90, 90, 96)       384       \n",
            " hNormalization)                                                 \n",
            "                                                                 \n",
            " activation_5 (Activation)   (None, 90, 90, 96)        0         \n",
            "                                                                 \n",
            " max_pooling2d_3 (MaxPooling  (None, 45, 45, 96)       0         \n",
            " 2D)                                                             \n",
            "                                                                 \n",
            " conv2d_4 (Conv2D)           (None, 23, 23, 96)        230496    \n",
            "                                                                 \n",
            " batch_normalization_6 (Batc  (None, 23, 23, 96)       384       \n",
            " hNormalization)                                                 \n",
            "                                                                 \n",
            " activation_6 (Activation)   (None, 23, 23, 96)        0         \n",
            "                                                                 \n",
            " max_pooling2d_4 (MaxPooling  (None, 12, 12, 96)       0         \n",
            " 2D)                                                             \n",
            "                                                                 \n",
            " conv2d_5 (Conv2D)           (None, 6, 6, 165)         1283205   \n",
            "                                                                 \n",
            " batch_normalization_7 (Batc  (None, 6, 6, 165)        660       \n",
            " hNormalization)                                                 \n",
            "                                                                 \n",
            " activation_7 (Activation)   (None, 6, 6, 165)         0         \n",
            "                                                                 \n",
            " max_pooling2d_5 (MaxPooling  (None, 3, 3, 165)        0         \n",
            " 2D)                                                             \n",
            "                                                                 \n",
            " flatten_1 (Flatten)         (None, 1485)              0         \n",
            "                                                                 \n",
            " dense_2 (Dense)             (None, 580)               861880    \n",
            "                                                                 \n",
            " batch_normalization_8 (Batc  (None, 580)              2320      \n",
            " hNormalization)                                                 \n",
            "                                                                 \n",
            " activation_8 (Activation)   (None, 580)               0         \n",
            "                                                                 \n",
            " dropout_1 (Dropout)         (None, 580)               0         \n",
            "                                                                 \n",
            " dense_3 (Dense)             (None, 1)                 581       \n",
            "                                                                 \n",
            " batch_normalization_9 (Batc  (None, 1)                4         \n",
            " hNormalization)                                                 \n",
            "                                                                 \n",
            " activation_9 (Activation)   (None, 1)                 0         \n",
            "                                                                 \n",
            "=================================================================\n",
            "Total params: 2,382,602\n",
            "Trainable params: 2,380,726\n",
            "Non-trainable params: 1,876\n",
            "_________________________________________________________________\n"
          ]
        }
      ],
      "source": [
        "cnn=Sequential()\n",
        "\n",
        "cnn.add(Conv2D(filters=96, input_shape=(180,180,3), kernel_size=(3,3), strides=(2,2), padding='same'))\n",
        "cnn.add(BatchNormalization())\n",
        "cnn.add(Activation('relu'))\n",
        "cnn.add(MaxPooling2D(pool_size=(2,2), padding='same'))\n",
        "\n",
        "cnn.add(Conv2D(filters=96, input_shape=(180,180,3), kernel_size=(5,5), strides=(2,2), padding='same'))\n",
        "cnn.add(BatchNormalization())\n",
        "cnn.add(Activation('relu'))\n",
        "cnn.add(MaxPooling2D(pool_size=(2,2), padding='same'))\n",
        "\n",
        "cnn.add(Conv2D(filters=165, input_shape=(180,180,3), kernel_size=(9,9), strides=(2,2), padding='same'))\n",
        "cnn.add(BatchNormalization())\n",
        "cnn.add(Activation('relu'))\n",
        "cnn.add(MaxPooling2D(pool_size=(2,2), padding='same'))\n",
        "\n",
        "\n",
        "cnn.add(Flatten())\n",
        "cnn.add(Dense(580, input_shape=(180,180,3,)))\n",
        "cnn.add(BatchNormalization())\n",
        "cnn.add(Activation('relu'))\n",
        "cnn.add(Dropout(0.4))\n",
        "\n",
        "cnn.add(Dense(1))\n",
        "cnn.add(BatchNormalization())\n",
        "cnn.add(Activation('sigmoid'))\n",
        "\n",
        "cnn.summary()"
      ]
    },
    {
      "cell_type": "code",
      "execution_count": null,
      "metadata": {
        "id": "dMA5wBJFR7Fe"
      },
      "outputs": [],
      "source": [
        "cnn.compile(loss = keras.losses.binary_crossentropy, optimizer= 'adam', metrics=['accuracy']) # categorical_crossentropy adam "
      ]
    },
    {
      "cell_type": "code",
      "execution_count": null,
      "metadata": {
        "id": "KafZyIn9ilnK",
        "colab": {
          "base_uri": "https://localhost:8080/"
        },
        "outputId": "b8fc70fd-a378-4ec4-d4eb-4d0260a920bc"
      },
      "outputs": [
        {
          "output_type": "stream",
          "name": "stdout",
          "text": [
            "Epoch 1/100\n",
            "121/121 [==============================] - 192s 2s/step - loss: 0.4432 - accuracy: 0.8488 - val_loss: 0.6014 - val_accuracy: 0.6954 - lr: 0.0010\n",
            "Epoch 2/100\n",
            "121/121 [==============================] - 187s 2s/step - loss: 0.3512 - accuracy: 0.9199 - val_loss: 0.4052 - val_accuracy: 0.8587 - lr: 0.0010\n",
            "Epoch 3/100\n",
            "121/121 [==============================] - 186s 2s/step - loss: 0.3242 - accuracy: 0.9269 - val_loss: 0.3180 - val_accuracy: 0.9259 - lr: 0.0010\n",
            "Epoch 4/100\n",
            "121/121 [==============================] - 186s 2s/step - loss: 0.3018 - accuracy: 0.9322 - val_loss: 0.3119 - val_accuracy: 0.9150 - lr: 0.0010\n",
            "Epoch 5/100\n",
            "121/121 [==============================] - 187s 2s/step - loss: 0.2876 - accuracy: 0.9304 - val_loss: 0.3331 - val_accuracy: 0.8994 - lr: 0.0010\n",
            "Epoch 6/100\n",
            "121/121 [==============================] - 187s 2s/step - loss: 0.2726 - accuracy: 0.9328 - val_loss: 0.2782 - val_accuracy: 0.9292 - lr: 0.0010\n",
            "Epoch 7/100\n",
            "121/121 [==============================] - 187s 2s/step - loss: 0.2601 - accuracy: 0.9346 - val_loss: 0.2688 - val_accuracy: 0.9177 - lr: 0.0010\n",
            "Epoch 8/100\n",
            "121/121 [==============================] - 188s 2s/step - loss: 0.2497 - accuracy: 0.9346 - val_loss: 0.2507 - val_accuracy: 0.9251 - lr: 0.0010\n",
            "Epoch 9/100\n",
            "121/121 [==============================] - 191s 2s/step - loss: 0.2404 - accuracy: 0.9362 - val_loss: 0.2768 - val_accuracy: 0.9181 - lr: 0.0010\n",
            "Epoch 10/100\n",
            "121/121 [==============================] - 191s 2s/step - loss: 0.2337 - accuracy: 0.9366 - val_loss: 0.2420 - val_accuracy: 0.9326 - lr: 0.0010\n",
            "Epoch 11/100\n",
            "121/121 [==============================] - 187s 2s/step - loss: 0.2264 - accuracy: 0.9383 - val_loss: 0.2509 - val_accuracy: 0.9245 - lr: 0.0010\n",
            "Epoch 12/100\n",
            "121/121 [==============================] - 193s 2s/step - loss: 0.2197 - accuracy: 0.9378 - val_loss: 0.2338 - val_accuracy: 0.9299 - lr: 0.0010\n",
            "Epoch 13/100\n",
            "121/121 [==============================] - 191s 2s/step - loss: 0.2165 - accuracy: 0.9354 - val_loss: 0.2495 - val_accuracy: 0.9170 - lr: 0.0010\n",
            "Epoch 14/100\n",
            "121/121 [==============================] - 190s 2s/step - loss: 0.2118 - accuracy: 0.9372 - val_loss: 0.2314 - val_accuracy: 0.9222 - lr: 0.0010\n",
            "Epoch 15/100\n",
            "121/121 [==============================] - 186s 2s/step - loss: 0.2091 - accuracy: 0.9369 - val_loss: 0.2438 - val_accuracy: 0.9323 - lr: 0.0010\n",
            "Epoch 16/100\n",
            "121/121 [==============================] - 187s 2s/step - loss: 0.2048 - accuracy: 0.9374 - val_loss: 0.2245 - val_accuracy: 0.9326 - lr: 0.0010\n",
            "Epoch 17/100\n",
            "121/121 [==============================] - 186s 2s/step - loss: 0.1982 - accuracy: 0.9396 - val_loss: 0.2169 - val_accuracy: 0.9334 - lr: 0.0010\n",
            "Epoch 18/100\n",
            "121/121 [==============================] - 186s 2s/step - loss: 0.1956 - accuracy: 0.9392 - val_loss: 0.2054 - val_accuracy: 0.9321 - lr: 0.0010\n",
            "Epoch 19/100\n",
            "121/121 [==============================] - 186s 2s/step - loss: 0.1911 - accuracy: 0.9392 - val_loss: 0.3297 - val_accuracy: 0.9013 - lr: 0.0010\n",
            "Epoch 20/100\n",
            "121/121 [==============================] - 186s 2s/step - loss: 0.1861 - accuracy: 0.9414 - val_loss: 0.1944 - val_accuracy: 0.9363 - lr: 0.0010\n",
            "Epoch 21/100\n",
            "121/121 [==============================] - 186s 2s/step - loss: 0.1900 - accuracy: 0.9381 - val_loss: 0.1959 - val_accuracy: 0.9346 - lr: 0.0010\n",
            "Epoch 22/100\n",
            "121/121 [==============================] - 186s 2s/step - loss: 0.1806 - accuracy: 0.9427 - val_loss: 0.2270 - val_accuracy: 0.9243 - lr: 0.0010\n",
            "Epoch 23/100\n",
            "121/121 [==============================] - 186s 2s/step - loss: 0.1810 - accuracy: 0.9403 - val_loss: 0.1983 - val_accuracy: 0.9319 - lr: 0.0010\n",
            "Epoch 24/100\n",
            "121/121 [==============================] - 186s 2s/step - loss: 0.1823 - accuracy: 0.9399 - val_loss: 0.1899 - val_accuracy: 0.9406 - lr: 0.0010\n",
            "Epoch 25/100\n",
            "121/121 [==============================] - 187s 2s/step - loss: 0.1753 - accuracy: 0.9431 - val_loss: 0.2147 - val_accuracy: 0.9294 - lr: 0.0010\n",
            "Epoch 26/100\n",
            "121/121 [==============================] - 193s 2s/step - loss: 0.1719 - accuracy: 0.9431 - val_loss: 0.2006 - val_accuracy: 0.9315 - lr: 0.0010\n",
            "Epoch 27/100\n",
            "121/121 [==============================] - 190s 2s/step - loss: 0.1737 - accuracy: 0.9410 - val_loss: 0.1823 - val_accuracy: 0.9435 - lr: 0.0010\n",
            "Epoch 28/100\n",
            "121/121 [==============================] - 194s 2s/step - loss: 0.1754 - accuracy: 0.9400 - val_loss: 0.2089 - val_accuracy: 0.9282 - lr: 0.0010\n",
            "Epoch 29/100\n",
            "121/121 [==============================] - 194s 2s/step - loss: 0.1676 - accuracy: 0.9439 - val_loss: 0.1742 - val_accuracy: 0.9435 - lr: 0.0010\n",
            "Epoch 30/100\n",
            "121/121 [==============================] - 190s 2s/step - loss: 0.1708 - accuracy: 0.9426 - val_loss: 0.1795 - val_accuracy: 0.9385 - lr: 0.0010\n",
            "Epoch 31/100\n",
            "121/121 [==============================] - 190s 2s/step - loss: 0.1692 - accuracy: 0.9407 - val_loss: 0.1809 - val_accuracy: 0.9350 - lr: 0.0010\n",
            "Epoch 32/100\n",
            "121/121 [==============================] - 189s 2s/step - loss: 0.1656 - accuracy: 0.9448 - val_loss: 0.1735 - val_accuracy: 0.9410 - lr: 0.0010\n",
            "Epoch 33/100\n",
            "121/121 [==============================] - 189s 2s/step - loss: 0.1666 - accuracy: 0.9436 - val_loss: 0.2094 - val_accuracy: 0.9321 - lr: 0.0010\n",
            "Epoch 34/100\n",
            "121/121 [==============================] - 190s 2s/step - loss: 0.1632 - accuracy: 0.9428 - val_loss: 0.1856 - val_accuracy: 0.9363 - lr: 0.0010\n",
            "Epoch 35/100\n",
            "121/121 [==============================] - 189s 2s/step - loss: 0.1628 - accuracy: 0.9425 - val_loss: 0.3900 - val_accuracy: 0.7896 - lr: 0.0010\n",
            "Epoch 36/100\n",
            "121/121 [==============================] - 190s 2s/step - loss: 0.1593 - accuracy: 0.9446 - val_loss: 0.1725 - val_accuracy: 0.9406 - lr: 0.0010\n",
            "Epoch 37/100\n",
            "121/121 [==============================] - 190s 2s/step - loss: 0.1613 - accuracy: 0.9450 - val_loss: 0.1731 - val_accuracy: 0.9408 - lr: 0.0010\n",
            "Epoch 38/100\n",
            "121/121 [==============================] - 189s 2s/step - loss: 0.1541 - accuracy: 0.9459 - val_loss: 0.1678 - val_accuracy: 0.9414 - lr: 0.0010\n",
            "Epoch 39/100\n",
            "121/121 [==============================] - 188s 2s/step - loss: 0.1550 - accuracy: 0.9454 - val_loss: 0.1575 - val_accuracy: 0.9477 - lr: 0.0010\n",
            "Epoch 40/100\n",
            "121/121 [==============================] - 189s 2s/step - loss: 0.1591 - accuracy: 0.9424 - val_loss: 0.1826 - val_accuracy: 0.9352 - lr: 0.0010\n",
            "Epoch 41/100\n",
            "121/121 [==============================] - 189s 2s/step - loss: 0.1583 - accuracy: 0.9433 - val_loss: 0.1635 - val_accuracy: 0.9412 - lr: 0.0010\n",
            "Epoch 42/100\n",
            "121/121 [==============================] - 189s 2s/step - loss: 0.1510 - accuracy: 0.9467 - val_loss: 0.1645 - val_accuracy: 0.9386 - lr: 5.0000e-04\n",
            "Epoch 43/100\n",
            "121/121 [==============================] - 189s 2s/step - loss: 0.1464 - accuracy: 0.9506 - val_loss: 0.1572 - val_accuracy: 0.9410 - lr: 5.0000e-04\n",
            "Epoch 44/100\n",
            "121/121 [==============================] - 190s 2s/step - loss: 0.1457 - accuracy: 0.9480 - val_loss: 0.1570 - val_accuracy: 0.9439 - lr: 5.0000e-04\n",
            "Epoch 45/100\n",
            "121/121 [==============================] - 190s 2s/step - loss: 0.1437 - accuracy: 0.9492 - val_loss: 0.1644 - val_accuracy: 0.9448 - lr: 5.0000e-04\n",
            "Epoch 46/100\n",
            "121/121 [==============================] - 190s 2s/step - loss: 0.1456 - accuracy: 0.9497 - val_loss: 0.1484 - val_accuracy: 0.9448 - lr: 5.0000e-04\n",
            "Epoch 47/100\n",
            "121/121 [==============================] - 194s 2s/step - loss: 0.1485 - accuracy: 0.9479 - val_loss: 0.1484 - val_accuracy: 0.9476 - lr: 5.0000e-04\n",
            "Epoch 48/100\n",
            "121/121 [==============================] - 197s 2s/step - loss: 0.1419 - accuracy: 0.9501 - val_loss: 0.1569 - val_accuracy: 0.9423 - lr: 5.0000e-04\n",
            "Epoch 49/100\n",
            "121/121 [==============================] - 196s 2s/step - loss: 0.1369 - accuracy: 0.9518 - val_loss: 0.1617 - val_accuracy: 0.9423 - lr: 5.0000e-04\n",
            "Epoch 50/100\n",
            "121/121 [==============================] - 195s 2s/step - loss: 0.1446 - accuracy: 0.9478 - val_loss: 0.1588 - val_accuracy: 0.9412 - lr: 5.0000e-04\n",
            "Epoch 51/100\n",
            "121/121 [==============================] - 195s 2s/step - loss: 0.1421 - accuracy: 0.9498 - val_loss: 0.1556 - val_accuracy: 0.9437 - lr: 5.0000e-04\n",
            "Epoch 52/100\n",
            "121/121 [==============================] - 196s 2s/step - loss: 0.1415 - accuracy: 0.9515 - val_loss: 0.1552 - val_accuracy: 0.9419 - lr: 5.0000e-04\n",
            "Epoch 53/100\n",
            "121/121 [==============================] - 195s 2s/step - loss: 0.1365 - accuracy: 0.9507 - val_loss: 0.1532 - val_accuracy: 0.9431 - lr: 2.5000e-04\n",
            "Epoch 54/100\n",
            "121/121 [==============================] - 191s 2s/step - loss: 0.1362 - accuracy: 0.9519 - val_loss: 0.1457 - val_accuracy: 0.9501 - lr: 2.5000e-04\n",
            "Epoch 55/100\n",
            "121/121 [==============================] - 189s 2s/step - loss: 0.1353 - accuracy: 0.9522 - val_loss: 0.1516 - val_accuracy: 0.9423 - lr: 2.5000e-04\n",
            "Epoch 56/100\n",
            "121/121 [==============================] - 189s 2s/step - loss: 0.1354 - accuracy: 0.9524 - val_loss: 0.1441 - val_accuracy: 0.9460 - lr: 2.5000e-04\n",
            "Epoch 57/100\n",
            "121/121 [==============================] - 189s 2s/step - loss: 0.1359 - accuracy: 0.9528 - val_loss: 0.1425 - val_accuracy: 0.9445 - lr: 2.5000e-04\n",
            "Epoch 58/100\n",
            "121/121 [==============================] - 189s 2s/step - loss: 0.1309 - accuracy: 0.9533 - val_loss: 0.1533 - val_accuracy: 0.9464 - lr: 2.5000e-04\n",
            "Epoch 59/100\n",
            "121/121 [==============================] - 189s 2s/step - loss: 0.1376 - accuracy: 0.9516 - val_loss: 0.1436 - val_accuracy: 0.9489 - lr: 2.5000e-04\n",
            "Epoch 60/100\n",
            "121/121 [==============================] - 189s 2s/step - loss: 0.1356 - accuracy: 0.9507 - val_loss: 0.1415 - val_accuracy: 0.9512 - lr: 2.5000e-04\n",
            "Epoch 61/100\n",
            "121/121 [==============================] - 189s 2s/step - loss: 0.1352 - accuracy: 0.9521 - val_loss: 0.1465 - val_accuracy: 0.9460 - lr: 2.5000e-04\n",
            "Epoch 62/100\n",
            "121/121 [==============================] - 188s 2s/step - loss: 0.1342 - accuracy: 0.9527 - val_loss: 0.1390 - val_accuracy: 0.9493 - lr: 1.2500e-04\n",
            "Epoch 63/100\n",
            "121/121 [==============================] - 189s 2s/step - loss: 0.1326 - accuracy: 0.9538 - val_loss: 0.1373 - val_accuracy: 0.9510 - lr: 1.2500e-04\n",
            "Epoch 64/100\n",
            "121/121 [==============================] - 189s 2s/step - loss: 0.1275 - accuracy: 0.9547 - val_loss: 0.1388 - val_accuracy: 0.9510 - lr: 1.2500e-04\n",
            "Epoch 65/100\n",
            "121/121 [==============================] - 189s 2s/step - loss: 0.1321 - accuracy: 0.9534 - val_loss: 0.1434 - val_accuracy: 0.9464 - lr: 1.2500e-04\n",
            "Epoch 66/100\n",
            "121/121 [==============================] - 189s 2s/step - loss: 0.1287 - accuracy: 0.9547 - val_loss: 0.1432 - val_accuracy: 0.9483 - lr: 1.2500e-04\n",
            "Epoch 67/100\n",
            "121/121 [==============================] - 189s 2s/step - loss: 0.1271 - accuracy: 0.9564 - val_loss: 0.1437 - val_accuracy: 0.9454 - lr: 1.2500e-04\n",
            "Epoch 68/100\n",
            "121/121 [==============================] - 193s 2s/step - loss: 0.1293 - accuracy: 0.9545 - val_loss: 0.1441 - val_accuracy: 0.9452 - lr: 1.2500e-04\n",
            "Epoch 69/100\n",
            "121/121 [==============================] - 193s 2s/step - loss: 0.1239 - accuracy: 0.9569 - val_loss: 0.1439 - val_accuracy: 0.9481 - lr: 1.2500e-04\n",
            "Epoch 70/100\n",
            "121/121 [==============================] - 199s 2s/step - loss: 0.1308 - accuracy: 0.9531 - val_loss: 0.1408 - val_accuracy: 0.9477 - lr: 1.2500e-04\n",
            "Epoch 71/100\n",
            "121/121 [==============================] - 201s 2s/step - loss: 0.1306 - accuracy: 0.9532 - val_loss: 0.1508 - val_accuracy: 0.9464 - lr: 1.2500e-04\n",
            "Epoch 72/100\n",
            "121/121 [==============================] - 201s 2s/step - loss: 0.1283 - accuracy: 0.9539 - val_loss: 0.1392 - val_accuracy: 0.9497 - lr: 1.2500e-04\n",
            "Epoch 73/100\n",
            "121/121 [==============================] - 192s 2s/step - loss: 0.1235 - accuracy: 0.9577 - val_loss: 0.1353 - val_accuracy: 0.9479 - lr: 6.2500e-05\n",
            "Epoch 74/100\n",
            "121/121 [==============================] - 192s 2s/step - loss: 0.1246 - accuracy: 0.9547 - val_loss: 0.1350 - val_accuracy: 0.9516 - lr: 6.2500e-05\n",
            "Epoch 75/100\n",
            "121/121 [==============================] - 190s 2s/step - loss: 0.1244 - accuracy: 0.9561 - val_loss: 0.1305 - val_accuracy: 0.9524 - lr: 6.2500e-05\n",
            "Epoch 76/100\n",
            "121/121 [==============================] - 191s 2s/step - loss: 0.1211 - accuracy: 0.9567 - val_loss: 0.1402 - val_accuracy: 0.9483 - lr: 6.2500e-05\n",
            "Epoch 77/100\n",
            "121/121 [==============================] - 190s 2s/step - loss: 0.1271 - accuracy: 0.9560 - val_loss: 0.1382 - val_accuracy: 0.9487 - lr: 6.2500e-05\n",
            "Epoch 78/100\n",
            "121/121 [==============================] - 190s 2s/step - loss: 0.1194 - accuracy: 0.9578 - val_loss: 0.1376 - val_accuracy: 0.9481 - lr: 6.2500e-05\n",
            "Epoch 79/100\n",
            "121/121 [==============================] - 190s 2s/step - loss: 0.1286 - accuracy: 0.9536 - val_loss: 0.1377 - val_accuracy: 0.9481 - lr: 6.2500e-05\n",
            "Epoch 80/100\n",
            "121/121 [==============================] - 190s 2s/step - loss: 0.1238 - accuracy: 0.9575 - val_loss: 0.1418 - val_accuracy: 0.9505 - lr: 6.2500e-05\n",
            "Epoch 81/100\n",
            "121/121 [==============================] - 190s 2s/step - loss: 0.1243 - accuracy: 0.9565 - val_loss: 0.1365 - val_accuracy: 0.9483 - lr: 6.2500e-05\n",
            "Epoch 82/100\n",
            "121/121 [==============================] - 190s 2s/step - loss: 0.1283 - accuracy: 0.9530 - val_loss: 0.1426 - val_accuracy: 0.9460 - lr: 3.1250e-05\n",
            "Epoch 83/100\n",
            "121/121 [==============================] - 188s 2s/step - loss: 0.1238 - accuracy: 0.9565 - val_loss: 0.1359 - val_accuracy: 0.9512 - lr: 3.1250e-05\n",
            "Epoch 84/100\n",
            "121/121 [==============================] - 189s 2s/step - loss: 0.1218 - accuracy: 0.9578 - val_loss: 0.1325 - val_accuracy: 0.9518 - lr: 3.1250e-05\n",
            "Epoch 85/100\n",
            "121/121 [==============================] - 188s 2s/step - loss: 0.1241 - accuracy: 0.9570 - val_loss: 0.1355 - val_accuracy: 0.9505 - lr: 1.5625e-05\n"
          ]
        }
      ],
      "source": [
        "#Defining the parameters\n",
        "batch_size= 128 #110  \n",
        "epochs=100 #10\n",
        "\n",
        "#Training the model \n",
        "history=cnn.fit(train_generator.flow(x_train, y_train, batch_size=batch_size), epochs = epochs, steps_per_epoch = x_train.shape[0]//batch_size,  callbacks = [lrr,earlystop], verbose=1,validation_data=train_generator.flow(x_val, y_val))"
      ]
    },
    {
      "cell_type": "code",
      "source": [
        "cnn.save('/content')"
      ],
      "metadata": {
        "colab": {
          "base_uri": "https://localhost:8080/"
        },
        "id": "Rrl-qwsfc7a5",
        "outputId": "871efa5a-f135-4769-a194-68c760668c99"
      },
      "execution_count": null,
      "outputs": [
        {
          "output_type": "stream",
          "name": "stdout",
          "text": [
            "INFO:tensorflow:Assets written to: /content/assets\n"
          ]
        }
      ]
    },
    {
      "cell_type": "code",
      "execution_count": null,
      "metadata": {
        "id": "ftgo6aWS1Uxg",
        "colab": {
          "base_uri": "https://localhost:8080/"
        },
        "outputId": "8503ca9a-e9c8-4f03-da08-3e839cdc239c"
      },
      "outputs": [
        {
          "output_type": "stream",
          "name": "stdout",
          "text": [
            "[[3356   89]\n",
            " [ 140 3305]]\n",
            "\n",
            "\n",
            "Classification Report\n",
            "\n",
            "              precision    recall  f1-score   support\n",
            "\n",
            "           0       0.96      0.97      0.97      3445\n",
            "           1       0.97      0.96      0.97      3445\n",
            "\n",
            "    accuracy                           0.97      6890\n",
            "   macro avg       0.97      0.97      0.97      6890\n",
            "weighted avg       0.97      0.97      0.97      6890\n",
            "\n"
          ]
        }
      ],
      "source": [
        "predict_x=(cnn.predict(x_test) > 0.5).astype(\"int32\")\n",
        "pred=np.array(predict_x)\n",
        "\n",
        "from sklearn.metrics import confusion_matrix\n",
        "from sklearn.metrics import classification_report\n",
        "confusion_mtx=confusion_matrix(y_test,pred)\n",
        "print(confusion_mtx)\n",
        "cr = classification_report(y_test, pred)\n",
        "print(\"\\n\\nClassification Report\\n\")\n",
        "print(cr)"
      ]
    },
    {
      "cell_type": "code",
      "source": [
        "plt.plot(history.history['accuracy'])\n",
        "plt.plot(history.history['val_accuracy'])\n",
        "plt.title('model accuracy')\n",
        "plt.ylabel('accuracy')\n",
        "plt.xlabel('epoch')\n",
        "plt.legend(['train', 'validation'], loc='upper left')\n",
        "plt.show()\n",
        "# summarize history for loss\n",
        "plt.plot(history.history['loss'])\n",
        "plt.plot(history.history['val_loss'])\n",
        "plt.title('model loss')\n",
        "plt.ylabel('loss')\n",
        "plt.xlabel('epoch')\n",
        "plt.legend(['train', 'validation'], loc='upper left')\n",
        "plt.show()"
      ],
      "metadata": {
        "colab": {
          "base_uri": "https://localhost:8080/",
          "height": 573
        },
        "id": "_1YSi3SS0VSc",
        "outputId": "8856eab7-306e-4caf-ea3a-bcc661bdab8b"
      },
      "execution_count": null,
      "outputs": [
        {
          "output_type": "display_data",
          "data": {
            "image/png": "[encoded data removed]",
            "text/plain": [
              "<Figure size 432x288 with 1 Axes>"
            ]
          },
          "metadata": {
            "needs_background": "light"
          }
        },
        {
          "output_type": "display_data",
          "data": {
            "image/png": "[encoded data removed]",
            "text/plain": [
              "<Figure size 432x288 with 1 Axes>"
            ]
          },
          "metadata": {
            "needs_background": "light"
          }
        }
      ]
    },
    {
      "cell_type": "markdown",
      "source": [
        "### **DenseNet**"
      ],
      "metadata": {
        "id": "PMmrlkVMJ8gn"
      }
    },
    {
      "cell_type": "code",
      "source": [
        "from tensorflow.keras.applications import DenseNet121\n",
        "from tensorflow.keras.models import Model\n",
        "from keras.layers import GlobalMaxPooling2D\n",
        "from tensorflow.keras.applications.densenet import preprocess_input"
      ],
      "metadata": {
        "id": "sZJ9QkMZKCv6"
      },
      "execution_count": null,
      "outputs": []
    },
    {
      "cell_type": "code",
      "source": [
        "d=DenseNet121(weights='imagenet',include_top=False,pooling='max', input_shape=(180, 180, 3)) \n",
        "\n",
        "x=d.output\n",
        "# x_pool = GlobalMaxPooling2D()(x)\n",
        "preds=Dense(1,activation='sigmoid')(x)"
      ],
      "metadata": {
        "id": "YohYr43NKC8l"
      },
      "execution_count": null,
      "outputs": []
    },
    {
      "cell_type": "code",
      "source": [
        "denseNet=Model(inputs=d.input,outputs=preds)\n",
        "denseNet.summary()"
      ],
      "metadata": {
        "id": "sh0rXTA9KYCk"
      },
      "execution_count": null,
      "outputs": []
    },
    {
      "cell_type": "code",
      "source": [
        "denseNet.input"
      ],
      "metadata": {
        "colab": {
          "base_uri": "https://localhost:8080/"
        },
        "id": "KnupP-AHZXY0",
        "outputId": "8a74247b-f908-4734-adf7-c0b4d6009674"
      },
      "execution_count": null,
      "outputs": [
        {
          "output_type": "execute_result",
          "data": {
            "text/plain": [
              "<KerasTensor: shape=(None, 180, 180, 3) dtype=float32 (created by layer 'input_4')>"
            ]
          },
          "metadata": {},
          "execution_count": 24
        }
      ]
    },
    {
      "cell_type": "code",
      "source": [
        "for layer in denseNet.layers[:-8]:\n",
        "    layer.trainable=False\n",
        "    \n",
        "for layer in denseNet.layers[-8:]:\n",
        "    layer.trainable=True"
      ],
      "metadata": {
        "id": "eKiPldR3LH2w"
      },
      "execution_count": null,
      "outputs": []
    },
    {
      "cell_type": "code",
      "source": [
        "denseNet.compile(optimizer='Adam',loss='binary_crossentropy',metrics=['accuracy'])\n",
        "# model.summary()"
      ],
      "metadata": {
        "id": "yBulkJT4LH8l"
      },
      "execution_count": null,
      "outputs": []
    },
    {
      "cell_type": "code",
      "source": [
        "print(x_val.shape,y_val.shape)"
      ],
      "metadata": {
        "colab": {
          "base_uri": "https://localhost:8080/"
        },
        "id": "F_YWOqUCQXB2",
        "outputId": "e51ab0f7-61c2-469b-fc63-a231b9ad4462"
      },
      "execution_count": null,
      "outputs": [
        {
          "output_type": "stream",
          "name": "stdout",
          "text": [
            "(5167, 180, 180, 3) (5167,)\n"
          ]
        }
      ]
    },
    {
      "cell_type": "code",
      "source": [
        "#Defining the parameters\n",
        "batch_size= 128 #110  \n",
        "epochs=100 #10\n",
        "learn_rate=0.01\n",
        "\n",
        "#Training the model \n",
        "history=denseNet.fit(train_generator.flow(x_train, y_train, batch_size=batch_size), epochs = epochs, steps_per_epoch = x_train.shape[0]//batch_size,  callbacks = [lrr,earlystop], verbose=1,validation_data=val_generator.flow(x_val, y_val),validation_steps=x_val.shape[0] / batch_size)"
      ],
      "metadata": {
        "colab": {
          "base_uri": "https://localhost:8080/"
        },
        "id": "oZNhtC5jLb_v",
        "outputId": "5bc504d9-e979-4c94-d0cb-0283b122a21f"
      },
      "execution_count": null,
      "outputs": [
        {
          "output_type": "stream",
          "name": "stdout",
          "text": [
            "Epoch 1/100\n",
            "121/121 [==============================] - 297s 2s/step - loss: 0.5488 - accuracy: 0.7449 - val_loss: 0.4453 - val_accuracy: 0.8216 - lr: 0.0010\n",
            "Epoch 2/100\n",
            "121/121 [==============================] - 304s 3s/step - loss: 0.3894 - accuracy: 0.8355 - val_loss: 0.3256 - val_accuracy: 0.8643 - lr: 0.0010\n",
            "Epoch 3/100\n",
            "121/121 [==============================] - 299s 2s/step - loss: 0.3317 - accuracy: 0.8669 - val_loss: 0.3128 - val_accuracy: 0.8613 - lr: 0.0010\n",
            "Epoch 4/100\n",
            "121/121 [==============================] - 303s 3s/step - loss: 0.3119 - accuracy: 0.8797 - val_loss: 0.2949 - val_accuracy: 0.8742 - lr: 0.0010\n",
            "Epoch 5/100\n",
            "121/121 [==============================] - 306s 3s/step - loss: 0.3051 - accuracy: 0.8827 - val_loss: 0.3046 - val_accuracy: 0.8819 - lr: 0.0010\n",
            "Epoch 6/100\n",
            "121/121 [==============================] - 312s 3s/step - loss: 0.2803 - accuracy: 0.8943 - val_loss: 0.2890 - val_accuracy: 0.8887 - lr: 0.0010\n",
            "Epoch 7/100\n",
            "121/121 [==============================] - 304s 3s/step - loss: 0.2793 - accuracy: 0.8961 - val_loss: 0.2987 - val_accuracy: 0.8887 - lr: 0.0010\n",
            "Epoch 8/100\n",
            "121/121 [==============================] - 302s 2s/step - loss: 0.2697 - accuracy: 0.8972 - val_loss: 0.3337 - val_accuracy: 0.8780 - lr: 0.0010\n",
            "Epoch 9/100\n",
            "121/121 [==============================] - 307s 3s/step - loss: 0.2727 - accuracy: 0.8952 - val_loss: 0.3175 - val_accuracy: 0.8819 - lr: 0.0010\n",
            "Epoch 10/100\n",
            "121/121 [==============================] - 309s 3s/step - loss: 0.2739 - accuracy: 0.8975 - val_loss: 0.2677 - val_accuracy: 0.8948 - lr: 0.0010\n",
            "Epoch 11/100\n",
            "121/121 [==============================] - 307s 3s/step - loss: 0.2755 - accuracy: 0.8942 - val_loss: 0.2596 - val_accuracy: 0.9032 - lr: 0.0010\n",
            "Epoch 12/100\n",
            "121/121 [==============================] - 306s 3s/step - loss: 0.2583 - accuracy: 0.9041 - val_loss: 0.2536 - val_accuracy: 0.8994 - lr: 5.0000e-04\n",
            "Epoch 13/100\n",
            "121/121 [==============================] - 303s 2s/step - loss: 0.2533 - accuracy: 0.9053 - val_loss: 0.2547 - val_accuracy: 0.9009 - lr: 5.0000e-04\n",
            "Epoch 14/100\n",
            "121/121 [==============================] - 303s 2s/step - loss: 0.2475 - accuracy: 0.9081 - val_loss: 0.2614 - val_accuracy: 0.9032 - lr: 5.0000e-04\n",
            "Epoch 15/100\n",
            "121/121 [==============================] - 302s 2s/step - loss: 0.2495 - accuracy: 0.9070 - val_loss: 0.2592 - val_accuracy: 0.9009 - lr: 5.0000e-04\n",
            "Epoch 16/100\n",
            "121/121 [==============================] - 302s 2s/step - loss: 0.2547 - accuracy: 0.9054 - val_loss: 0.2458 - val_accuracy: 0.9139 - lr: 5.0000e-04\n",
            "Epoch 17/100\n",
            "121/121 [==============================] - 302s 2s/step - loss: 0.2491 - accuracy: 0.9052 - val_loss: 0.2795 - val_accuracy: 0.8948 - lr: 5.0000e-04\n",
            "Epoch 18/100\n",
            "121/121 [==============================] - 302s 2s/step - loss: 0.2394 - accuracy: 0.9111 - val_loss: 0.2649 - val_accuracy: 0.9002 - lr: 2.5000e-04\n",
            "Epoch 19/100\n",
            "121/121 [==============================] - 302s 2s/step - loss: 0.2414 - accuracy: 0.9110 - val_loss: 0.2387 - val_accuracy: 0.9177 - lr: 2.5000e-04\n",
            "Epoch 20/100\n",
            "121/121 [==============================] - 303s 2s/step - loss: 0.2376 - accuracy: 0.9110 - val_loss: 0.2289 - val_accuracy: 0.9116 - lr: 2.5000e-04\n",
            "Epoch 21/100\n",
            "121/121 [==============================] - 302s 2s/step - loss: 0.2381 - accuracy: 0.9115 - val_loss: 0.2375 - val_accuracy: 0.9131 - lr: 2.5000e-04\n",
            "Epoch 22/100\n",
            "121/121 [==============================] - 301s 2s/step - loss: 0.2386 - accuracy: 0.9120 - val_loss: 0.2249 - val_accuracy: 0.9116 - lr: 2.5000e-04\n",
            "Epoch 23/100\n",
            "121/121 [==============================] - 301s 2s/step - loss: 0.2387 - accuracy: 0.9103 - val_loss: 0.2327 - val_accuracy: 0.9078 - lr: 2.5000e-04\n",
            "Epoch 24/100\n",
            "121/121 [==============================] - 305s 3s/step - loss: 0.2370 - accuracy: 0.9105 - val_loss: 0.2464 - val_accuracy: 0.9070 - lr: 1.2500e-04\n",
            "Epoch 25/100\n",
            "121/121 [==============================] - 313s 3s/step - loss: 0.2355 - accuracy: 0.9121 - val_loss: 0.2613 - val_accuracy: 0.9055 - lr: 1.2500e-04\n",
            "Epoch 26/100\n",
            "121/121 [==============================] - 313s 3s/step - loss: 0.2321 - accuracy: 0.9128 - val_loss: 0.2584 - val_accuracy: 0.9009 - lr: 1.2500e-04\n",
            "Epoch 27/100\n",
            "121/121 [==============================] - 301s 2s/step - loss: 0.2292 - accuracy: 0.9121 - val_loss: 0.2437 - val_accuracy: 0.9055 - lr: 1.2500e-04\n",
            "Epoch 28/100\n",
            "121/121 [==============================] - 299s 2s/step - loss: 0.2326 - accuracy: 0.9139 - val_loss: 0.2247 - val_accuracy: 0.9139 - lr: 1.2500e-04\n",
            "Epoch 29/100\n",
            "121/121 [==============================] - 304s 3s/step - loss: 0.2316 - accuracy: 0.9141 - val_loss: 0.2295 - val_accuracy: 0.9192 - lr: 1.2500e-04\n",
            "Epoch 30/100\n",
            "121/121 [==============================] - 314s 3s/step - loss: 0.2321 - accuracy: 0.9147 - val_loss: 0.2654 - val_accuracy: 0.8986 - lr: 1.2500e-04\n",
            "Epoch 31/100\n",
            "121/121 [==============================] - 306s 3s/step - loss: 0.2345 - accuracy: 0.9128 - val_loss: 0.2551 - val_accuracy: 0.9017 - lr: 6.2500e-05\n",
            "Epoch 32/100\n",
            "121/121 [==============================] - 298s 2s/step - loss: 0.2263 - accuracy: 0.9140 - val_loss: 0.2496 - val_accuracy: 0.9047 - lr: 6.2500e-05\n",
            "Epoch 33/100\n",
            "121/121 [==============================] - 298s 2s/step - loss: 0.2362 - accuracy: 0.9119 - val_loss: 0.2521 - val_accuracy: 0.8941 - lr: 6.2500e-05\n",
            "Epoch 34/100\n",
            "121/121 [==============================] - 306s 3s/step - loss: 0.2331 - accuracy: 0.9102 - val_loss: 0.2459 - val_accuracy: 0.9047 - lr: 6.2500e-05\n",
            "Epoch 35/100\n",
            "121/121 [==============================] - 303s 3s/step - loss: 0.2280 - accuracy: 0.9134 - val_loss: 0.2100 - val_accuracy: 0.9184 - lr: 6.2500e-05\n",
            "Epoch 36/100\n",
            "121/121 [==============================] - 299s 2s/step - loss: 0.2319 - accuracy: 0.9131 - val_loss: 0.2307 - val_accuracy: 0.9177 - lr: 3.1250e-05\n",
            "Epoch 37/100\n",
            "121/121 [==============================] - 312s 3s/step - loss: 0.2280 - accuracy: 0.9164 - val_loss: 0.2437 - val_accuracy: 0.9078 - lr: 3.1250e-05\n",
            "Epoch 38/100\n",
            "121/121 [==============================] - 313s 3s/step - loss: 0.2284 - accuracy: 0.9145 - val_loss: 0.2297 - val_accuracy: 0.9085 - lr: 3.1250e-05\n",
            "Epoch 39/100\n",
            "121/121 [==============================] - 298s 2s/step - loss: 0.2330 - accuracy: 0.9132 - val_loss: 0.2364 - val_accuracy: 0.9070 - lr: 1.5625e-05\n",
            "Epoch 40/100\n",
            "121/121 [==============================] - 301s 2s/step - loss: 0.2296 - accuracy: 0.9151 - val_loss: 0.2399 - val_accuracy: 0.9108 - lr: 1.5625e-05\n",
            "Epoch 41/100\n",
            "121/121 [==============================] - 310s 3s/step - loss: 0.2286 - accuracy: 0.9145 - val_loss: 0.2404 - val_accuracy: 0.9062 - lr: 1.5625e-05\n",
            "Epoch 42/100\n",
            "121/121 [==============================] - 313s 3s/step - loss: 0.2283 - accuracy: 0.9159 - val_loss: 0.2390 - val_accuracy: 0.9123 - lr: 1.0000e-05\n",
            "Epoch 43/100\n",
            "121/121 [==============================] - 310s 3s/step - loss: 0.2316 - accuracy: 0.9109 - val_loss: 0.2262 - val_accuracy: 0.9200 - lr: 1.0000e-05\n",
            "Epoch 44/100\n",
            "121/121 [==============================] - 308s 3s/step - loss: 0.2241 - accuracy: 0.9137 - val_loss: 0.2391 - val_accuracy: 0.9093 - lr: 1.0000e-05\n",
            "Epoch 45/100\n",
            "121/121 [==============================] - 307s 3s/step - loss: 0.2316 - accuracy: 0.9108 - val_loss: 0.2491 - val_accuracy: 0.9002 - lr: 1.0000e-05\n"
          ]
        }
      ]
    },
    {
      "cell_type": "code",
      "source": [
        "denseNet.save('/content/dense')"
      ],
      "metadata": {
        "colab": {
          "base_uri": "https://localhost:8080/"
        },
        "id": "4WnapQK0JKXK",
        "outputId": "2f33892e-d43e-4d1c-a681-9362299610d0"
      },
      "execution_count": null,
      "outputs": [
        {
          "output_type": "stream",
          "name": "stdout",
          "text": [
            "INFO:tensorflow:Assets written to: /content/dense/assets\n"
          ]
        }
      ]
    },
    {
      "cell_type": "code",
      "source": [
        "predict_x=(denseNet.predict(x_test) > 0.5).astype(\"int32\")\n",
        "pred=np.array(predict_x)\n",
        "\n",
        "confusion_mtx=confusion_matrix(y_test,pred)\n",
        "print(confusion_mtx)\n",
        "cr = classification_report(y_test, pred)\n",
        "print(\"\\n\\nClassification Report\\n\")\n",
        "print(cr)"
      ],
      "metadata": {
        "colab": {
          "base_uri": "https://localhost:8080/"
        },
        "id": "Apeta8PFJSFk",
        "outputId": "fb219a8a-2b75-4333-ee82-fa7e0cb5fe40"
      },
      "execution_count": null,
      "outputs": [
        {
          "output_type": "stream",
          "name": "stdout",
          "text": [
            "[[3347   98]\n",
            " [ 305 3140]]\n",
            "\n",
            "\n",
            "Classification Report\n",
            "\n",
            "              precision    recall  f1-score   support\n",
            "\n",
            "           0       0.92      0.97      0.94      3445\n",
            "           1       0.97      0.91      0.94      3445\n",
            "\n",
            "    accuracy                           0.94      6890\n",
            "   macro avg       0.94      0.94      0.94      6890\n",
            "weighted avg       0.94      0.94      0.94      6890\n",
            "\n"
          ]
        }
      ]
    },
    {
      "cell_type": "code",
      "source": [
        "plt.plot(history.history['accuracy'])\n",
        "plt.plot(history.history['val_accuracy'])\n",
        "plt.title('model accuracy')\n",
        "plt.ylabel('accuracy')\n",
        "plt.xlabel('epoch')\n",
        "plt.legend(['train', 'validation'], loc='upper left')\n",
        "plt.show()\n",
        "# summarize history for loss\n",
        "plt.plot(history.history['loss'])\n",
        "plt.plot(history.history['val_loss'])\n",
        "plt.title('model loss')\n",
        "plt.ylabel('loss')\n",
        "plt.xlabel('epoch')\n",
        "plt.legend(['train', 'validation'], loc='upper left')\n",
        "plt.show()"
      ],
      "metadata": {
        "colab": {
          "base_uri": "https://localhost:8080/",
          "height": 573
        },
        "id": "j60aEDa9JZ8D",
        "outputId": "6357a6de-ff10-4108-82d4-3b757df2856b"
      },
      "execution_count": null,
      "outputs": [
        {
          "output_type": "display_data",
          "data": {
            "image/png": "[encoded data removed]",
            "text/plain": [
              "<Figure size 432x288 with 1 Axes>"
            ]
          },
          "metadata": {
            "needs_background": "light"
          }
        },
        {
          "output_type": "display_data",
          "data": {
            "image/png": "[encoded data removed]",
            "text/plain": [
              "<Figure size 432x288 with 1 Axes>"
            ]
          },
          "metadata": {
            "needs_background": "light"
          }
        }
      ]
    },
    {
      "cell_type": "markdown",
      "source": [
        "### **VGG19**"
      ],
      "metadata": {
        "id": "g57kj5SNSY4w"
      }
    },
    {
      "cell_type": "code",
      "source": [
        "from keras.preprocessing.image import load_img\n",
        "from keras.preprocessing.image import img_to_array\n",
        "from keras.applications.vgg19 import preprocess_input\n",
        "from keras.applications.vgg19 import decode_predictions\n",
        "from keras.applications.vgg19 import VGG19"
      ],
      "metadata": {
        "id": "4J8O9kQNSkQ6"
      },
      "execution_count": null,
      "outputs": []
    },
    {
      "cell_type": "code",
      "source": [
        "# load model and specify a new input shape for images\n",
        "# new_input = Input(shape=(180, 180, 3))\n",
        "# model = VGG16(include_top=False, input_tensor=new_input,classes=2,weights='imagenet')\n",
        "# -------------------------------\n",
        "# re-size all the images to 180x180\n",
        "IMAGE_SIZE = [180, 180,3] \n",
        "\n",
        "# add preprocessing layer to the front of VGG\n",
        "vgg = VGG19(input_shape=IMAGE_SIZE, weights='imagenet', include_top=False)\n",
        "\n",
        "# don't train existing weights\n",
        "for layer in vgg.layers:\n",
        "    layer.trainable = False\n",
        "\n",
        "# our layers\n",
        "x = Flatten()(vgg.output)\n",
        "# x = Dense(1000, activation='relu')(x)\n",
        "prediction = Dense(1, activation='sigmoid')(x)\n",
        "\n",
        "\n",
        "# create a model object\n",
        "vgg19 = Model(inputs=vgg.input, outputs=prediction)"
      ],
      "metadata": {
        "colab": {
          "base_uri": "https://localhost:8080/"
        },
        "id": "dprmd36LSX8v",
        "outputId": "3b61d0fe-49fc-4cfe-f53e-66f92125a9ed"
      },
      "execution_count": null,
      "outputs": [
        {
          "output_type": "stream",
          "name": "stdout",
          "text": [
            "Downloading data from https://storage.googleapis.com/tensorflow/keras-applications/vgg19/vgg19_weights_tf_dim_ordering_tf_kernels_notop.h5\n",
            "80142336/80134624 [==============================] - 2s 0us/step\n",
            "80150528/80134624 [==============================] - 2s 0us/step\n"
          ]
        }
      ]
    },
    {
      "cell_type": "code",
      "source": [
        "vgg19.compile(\n",
        "  loss='binary_crossentropy',\n",
        "  optimizer='adam',\n",
        "  metrics=['accuracy'])"
      ],
      "metadata": {
        "id": "AyakIEcgTwgg"
      },
      "execution_count": null,
      "outputs": []
    },
    {
      "cell_type": "code",
      "source": [
        "batch_size= 128 #110  \n",
        "epochs=100 #10\n",
        "\n",
        "vgg_history=vgg19.fit(train_generator.flow(x_train, y_train), epochs = epochs, steps_per_epoch = x_train.shape[0]//batch_size,  \n",
        "                callbacks = [lrr,earlystop], verbose=1,validation_data=val_generator.flow(x_val, y_val))"
      ],
      "metadata": {
        "colab": {
          "base_uri": "https://localhost:8080/"
        },
        "id": "NHQY8IK_T1YH",
        "outputId": "18a15d0e-caf5-49b3-da7a-6548498088e2"
      },
      "execution_count": null,
      "outputs": [
        {
          "output_type": "stream",
          "name": "stdout",
          "text": [
            "Epoch 1/100\n",
            "121/121 [==============================] - 466s 4s/step - loss: 1.6739 - accuracy: 0.8094 - val_loss: 1.1424 - val_accuracy: 0.8667 - lr: 0.0010\n",
            "Epoch 2/100\n",
            "121/121 [==============================] - 467s 4s/step - loss: 1.1996 - accuracy: 0.8715 - val_loss: 1.1722 - val_accuracy: 0.8620 - lr: 0.0010\n",
            "Epoch 3/100\n",
            "121/121 [==============================] - 466s 4s/step - loss: 1.1781 - accuracy: 0.8740 - val_loss: 1.0140 - val_accuracy: 0.8945 - lr: 0.0010\n",
            "Epoch 4/100\n",
            "121/121 [==============================] - 460s 4s/step - loss: 1.2973 - accuracy: 0.8698 - val_loss: 2.0897 - val_accuracy: 0.8394 - lr: 0.0010\n",
            "Epoch 5/100\n",
            "121/121 [==============================] - 461s 4s/step - loss: 1.2608 - accuracy: 0.8714 - val_loss: 1.1035 - val_accuracy: 0.8872 - lr: 0.0010\n",
            "Epoch 6/100\n",
            "121/121 [==============================] - 457s 4s/step - loss: 1.2700 - accuracy: 0.8760 - val_loss: 1.4047 - val_accuracy: 0.8649 - lr: 0.0010\n",
            "Epoch 7/100\n",
            "121/121 [==============================] - 456s 4s/step - loss: 1.1228 - accuracy: 0.8874 - val_loss: 0.9299 - val_accuracy: 0.9048 - lr: 5.0000e-04\n",
            "Epoch 8/100\n",
            "121/121 [==============================] - 459s 4s/step - loss: 0.9053 - accuracy: 0.9006 - val_loss: 1.0084 - val_accuracy: 0.8680 - lr: 5.0000e-04\n",
            "Epoch 9/100\n",
            "121/121 [==============================] - 457s 4s/step - loss: 0.9148 - accuracy: 0.8975 - val_loss: 0.8996 - val_accuracy: 0.8937 - lr: 5.0000e-04\n",
            "Epoch 10/100\n",
            "121/121 [==============================] - 457s 4s/step - loss: 0.9254 - accuracy: 0.8897 - val_loss: 0.8514 - val_accuracy: 0.8986 - lr: 5.0000e-04\n",
            "Epoch 11/100\n",
            "121/121 [==============================] - 458s 4s/step - loss: 0.8222 - accuracy: 0.9013 - val_loss: 0.8485 - val_accuracy: 0.9003 - lr: 5.0000e-04\n",
            "Epoch 12/100\n",
            "121/121 [==============================] - 456s 4s/step - loss: 0.9948 - accuracy: 0.8840 - val_loss: 0.7814 - val_accuracy: 0.8936 - lr: 5.0000e-04\n",
            "Epoch 13/100\n",
            "121/121 [==============================] - 465s 4s/step - loss: 0.8565 - accuracy: 0.8874 - val_loss: 0.7323 - val_accuracy: 0.9067 - lr: 5.0000e-04\n",
            "Epoch 14/100\n",
            "121/121 [==============================] - 463s 4s/step - loss: 0.8241 - accuracy: 0.8980 - val_loss: 0.7634 - val_accuracy: 0.9121 - lr: 5.0000e-04\n",
            "Epoch 15/100\n",
            "121/121 [==============================] - 462s 4s/step - loss: 0.7236 - accuracy: 0.9065 - val_loss: 0.7447 - val_accuracy: 0.9054 - lr: 2.5000e-04\n",
            "Epoch 16/100\n",
            "121/121 [==============================] - 457s 4s/step - loss: 0.7555 - accuracy: 0.9055 - val_loss: 0.7463 - val_accuracy: 0.9001 - lr: 2.5000e-04\n",
            "Epoch 17/100\n",
            "121/121 [==============================] - 459s 4s/step - loss: 0.7941 - accuracy: 0.8902 - val_loss: 0.8244 - val_accuracy: 0.8980 - lr: 2.5000e-04\n",
            "Epoch 18/100\n",
            "121/121 [==============================] - 458s 4s/step - loss: 0.6610 - accuracy: 0.9042 - val_loss: 0.5975 - val_accuracy: 0.9021 - lr: 2.5000e-04\n",
            "Epoch 19/100\n",
            "121/121 [==============================] - 464s 4s/step - loss: 0.6809 - accuracy: 0.8977 - val_loss: 0.5970 - val_accuracy: 0.9110 - lr: 2.5000e-04\n",
            "Epoch 20/100\n",
            "121/121 [==============================] - 459s 4s/step - loss: 0.6788 - accuracy: 0.9008 - val_loss: 0.6378 - val_accuracy: 0.9005 - lr: 2.5000e-04\n",
            "Epoch 21/100\n",
            "121/121 [==============================] - 455s 4s/step - loss: 0.6544 - accuracy: 0.9001 - val_loss: 0.6257 - val_accuracy: 0.9081 - lr: 2.5000e-04\n",
            "Epoch 22/100\n",
            "121/121 [==============================] - 459s 4s/step - loss: 0.6359 - accuracy: 0.8995 - val_loss: 0.6911 - val_accuracy: 0.8961 - lr: 2.5000e-04\n",
            "Epoch 23/100\n",
            "121/121 [==============================] - 458s 4s/step - loss: 0.5235 - accuracy: 0.9086 - val_loss: 0.6841 - val_accuracy: 0.8955 - lr: 2.5000e-04\n",
            "Epoch 24/100\n",
            "121/121 [==============================] - 458s 4s/step - loss: 0.5922 - accuracy: 0.9044 - val_loss: 0.6128 - val_accuracy: 0.9021 - lr: 2.5000e-04\n",
            "Epoch 25/100\n",
            "121/121 [==============================] - 457s 4s/step - loss: 0.6587 - accuracy: 0.8990 - val_loss: 0.5998 - val_accuracy: 0.9075 - lr: 2.5000e-04\n",
            "Epoch 26/100\n",
            "121/121 [==============================] - 463s 4s/step - loss: 0.6365 - accuracy: 0.9057 - val_loss: 0.5575 - val_accuracy: 0.9081 - lr: 2.5000e-04\n",
            "Epoch 27/100\n",
            "121/121 [==============================] - 466s 4s/step - loss: 0.5209 - accuracy: 0.9153 - val_loss: 0.5369 - val_accuracy: 0.9057 - lr: 1.2500e-04\n",
            "Epoch 28/100\n",
            "121/121 [==============================] - 472s 4s/step - loss: 0.5299 - accuracy: 0.9062 - val_loss: 0.4734 - val_accuracy: 0.9090 - lr: 1.2500e-04\n",
            "Epoch 29/100\n",
            "121/121 [==============================] - 472s 4s/step - loss: 0.4707 - accuracy: 0.9106 - val_loss: 0.6351 - val_accuracy: 0.9063 - lr: 1.2500e-04\n",
            "Epoch 30/100\n",
            "121/121 [==============================] - 457s 4s/step - loss: 0.5486 - accuracy: 0.9047 - val_loss: 0.4861 - val_accuracy: 0.9021 - lr: 1.2500e-04\n",
            "Epoch 31/100\n",
            "121/121 [==============================] - 455s 4s/step - loss: 0.4724 - accuracy: 0.9122 - val_loss: 0.5813 - val_accuracy: 0.9077 - lr: 1.2500e-04\n",
            "Epoch 32/100\n",
            "121/121 [==============================] - 457s 4s/step - loss: 0.4639 - accuracy: 0.9179 - val_loss: 0.5465 - val_accuracy: 0.9054 - lr: 1.2500e-04\n",
            "Epoch 33/100\n",
            "121/121 [==============================] - 455s 4s/step - loss: 0.5193 - accuracy: 0.9081 - val_loss: 0.5302 - val_accuracy: 0.9092 - lr: 1.2500e-04\n",
            "Epoch 34/100\n",
            "121/121 [==============================] - 461s 4s/step - loss: 0.5359 - accuracy: 0.9075 - val_loss: 0.5829 - val_accuracy: 0.8949 - lr: 1.2500e-04\n",
            "Epoch 35/100\n",
            "121/121 [==============================] - 460s 4s/step - loss: 0.5466 - accuracy: 0.8980 - val_loss: 0.5120 - val_accuracy: 0.9057 - lr: 1.2500e-04\n",
            "Epoch 36/100\n",
            "121/121 [==============================] - 464s 4s/step - loss: 0.5305 - accuracy: 0.9013 - val_loss: 0.5016 - val_accuracy: 0.9056 - lr: 6.2500e-05\n",
            "Epoch 37/100\n",
            "121/121 [==============================] - 460s 4s/step - loss: 0.4200 - accuracy: 0.9112 - val_loss: 0.5436 - val_accuracy: 0.9061 - lr: 6.2500e-05\n",
            "Epoch 38/100\n",
            "121/121 [==============================] - 457s 4s/step - loss: 0.4674 - accuracy: 0.9024 - val_loss: 0.4607 - val_accuracy: 0.9065 - lr: 6.2500e-05\n",
            "Epoch 39/100\n",
            "121/121 [==============================] - 454s 4s/step - loss: 0.4524 - accuracy: 0.9104 - val_loss: 0.5178 - val_accuracy: 0.9063 - lr: 6.2500e-05\n",
            "Epoch 40/100\n",
            "121/121 [==============================] - 454s 4s/step - loss: 0.5022 - accuracy: 0.9019 - val_loss: 0.4203 - val_accuracy: 0.9168 - lr: 6.2500e-05\n",
            "Epoch 41/100\n",
            "121/121 [==============================] - 463s 4s/step - loss: 0.4071 - accuracy: 0.9138 - val_loss: 0.4401 - val_accuracy: 0.9044 - lr: 3.1250e-05\n",
            "Epoch 42/100\n",
            "121/121 [==============================] - 463s 4s/step - loss: 0.4130 - accuracy: 0.9176 - val_loss: 0.4276 - val_accuracy: 0.9121 - lr: 3.1250e-05\n",
            "Epoch 43/100\n",
            "121/121 [==============================] - 457s 4s/step - loss: 0.4786 - accuracy: 0.8985 - val_loss: 0.4209 - val_accuracy: 0.9063 - lr: 3.1250e-05\n",
            "Epoch 44/100\n",
            "121/121 [==============================] - 456s 4s/step - loss: 0.3946 - accuracy: 0.9176 - val_loss: 0.4647 - val_accuracy: 0.9015 - lr: 3.1250e-05\n",
            "Epoch 45/100\n",
            "121/121 [==============================] - 454s 4s/step - loss: 0.4042 - accuracy: 0.9151 - val_loss: 0.4659 - val_accuracy: 0.9081 - lr: 3.1250e-05\n",
            "Epoch 46/100\n",
            "121/121 [==============================] - 456s 4s/step - loss: 0.4172 - accuracy: 0.9161 - val_loss: 0.4339 - val_accuracy: 0.9032 - lr: 3.1250e-05\n",
            "Epoch 47/100\n",
            "121/121 [==============================] - 457s 4s/step - loss: 0.4099 - accuracy: 0.9174 - val_loss: 0.4884 - val_accuracy: 0.9090 - lr: 3.1250e-05\n",
            "Epoch 48/100\n",
            "121/121 [==============================] - 456s 4s/step - loss: 0.4533 - accuracy: 0.9055 - val_loss: 0.4673 - val_accuracy: 0.9073 - lr: 1.5625e-05\n",
            "Epoch 49/100\n",
            "121/121 [==============================] - 461s 4s/step - loss: 0.4160 - accuracy: 0.9106 - val_loss: 0.4457 - val_accuracy: 0.9067 - lr: 1.5625e-05\n",
            "Epoch 50/100\n",
            "121/121 [==============================] - 457s 4s/step - loss: 0.4131 - accuracy: 0.9106 - val_loss: 0.4467 - val_accuracy: 0.9096 - lr: 1.5625e-05\n"
          ]
        }
      ]
    },
    {
      "cell_type": "code",
      "source": [
        "vgg19.save('/content/vgg')"
      ],
      "metadata": {
        "colab": {
          "base_uri": "https://localhost:8080/"
        },
        "id": "nKWoZCBUuNkW",
        "outputId": "57a85224-abc1-4749-aa11-2aee18c09ddb"
      },
      "execution_count": null,
      "outputs": [
        {
          "output_type": "stream",
          "name": "stdout",
          "text": [
            "INFO:tensorflow:Assets written to: /content/vgg/assets\n"
          ]
        }
      ]
    },
    {
      "cell_type": "code",
      "source": [
        "predict_x=(vgg19.predict(x_test) > 0.5).astype(\"int32\")\n",
        "pred=np.array(predict_x)\n",
        "\n",
        "confusion_mtx=confusion_matrix(y_test,pred)\n",
        "print(confusion_mtx)\n",
        "cr = classification_report(y_test, pred)\n",
        "print(\"\\n\\nClassification Report\\n\")\n",
        "print(cr)"
      ],
      "metadata": {
        "colab": {
          "base_uri": "https://localhost:8080/"
        },
        "id": "IwMQC7vNZe4m",
        "outputId": "31b89568-13fe-49a7-ada4-5980bd82616e"
      },
      "execution_count": null,
      "outputs": [
        {
          "output_type": "stream",
          "name": "stdout",
          "text": [
            "[[3265  180]\n",
            " [ 332 3113]]\n",
            "\n",
            "\n",
            "Classification Report\n",
            "\n",
            "              precision    recall  f1-score   support\n",
            "\n",
            "           0       0.91      0.95      0.93      3445\n",
            "           1       0.95      0.90      0.92      3445\n",
            "\n",
            "    accuracy                           0.93      6890\n",
            "   macro avg       0.93      0.93      0.93      6890\n",
            "weighted avg       0.93      0.93      0.93      6890\n",
            "\n"
          ]
        }
      ]
    },
    {
      "cell_type": "code",
      "source": [
        "plt.plot(vgg_history.history['accuracy'])\n",
        "plt.plot(vgg_history.history['val_accuracy'])\n",
        "plt.title('model accuracy')\n",
        "plt.ylabel('accuracy')\n",
        "plt.xlabel('epoch')\n",
        "plt.legend(['train', 'validation'], loc='upper left')\n",
        "plt.show()\n",
        "# summarize history for loss\n",
        "plt.plot(vgg_history.history['loss'])\n",
        "plt.plot(vgg_history.history['val_loss'])\n",
        "plt.title('model loss')\n",
        "plt.ylabel('loss')\n",
        "plt.xlabel('epoch')\n",
        "plt.legend(['train', 'validation'], loc='upper left')\n",
        "plt.show()"
      ],
      "metadata": {
        "colab": {
          "base_uri": "https://localhost:8080/",
          "height": 573
        },
        "id": "aSkYc2PdZiE0",
        "outputId": "551258b9-7be7-4c6d-9956-1f74a457d545"
      },
      "execution_count": null,
      "outputs": [
        {
          "output_type": "display_data",
          "data": {
            "image/png": "[encoded data removed]",
            "text/plain": [
              "<Figure size 432x288 with 1 Axes>"
            ]
          },
          "metadata": {
            "needs_background": "light"
          }
        },
        {
          "output_type": "display_data",
          "data": {
            "image/png": "[encoded data removed]",
            "text/plain": [
              "<Figure size 432x288 with 1 Axes>"
            ]
          },
          "metadata": {
            "needs_background": "light"
          }
        }
      ]
    },
    {
      "cell_type": "markdown",
      "source": [
        "### **ResNet**"
      ],
      "metadata": {
        "id": "2i4VDqLqZlKi"
      }
    },
    {
      "cell_type": "code",
      "source": [
        "from keras.applications.resnet import ResNet50\n",
        "\n",
        "resnet = Sequential()\n",
        "pretrained_model= ResNet50(include_top=False,\n",
        "                   input_shape=(180,180,3),\n",
        "                   pooling='max',classes=2,\n",
        "                   weights='imagenet')\n",
        "for layer in pretrained_model.layers:\n",
        "        layer.trainable=False\n",
        "\n",
        "resnet.add(pretrained_model)\n",
        "\n",
        "resnet.add(Flatten())\n",
        "# resnet.add(Dense(512, activation='relu'))\n",
        "resnet.add(Dense(1, activation='sigmoid'))"
      ],
      "metadata": {
        "id": "SwGCIPClZpla"
      },
      "execution_count": null,
      "outputs": []
    },
    {
      "cell_type": "code",
      "source": [
        "resnet.compile(optimizer='adam',loss='binary_crossentropy',metrics=['accuracy'])\n",
        "\n",
        "resnet_history=resnet.fit(train_generator.flow(x_train, y_train), epochs = epochs, steps_per_epoch = x_train.shape[0]//batch_size,  \n",
        "                callbacks = [lrr,earlystop], verbose=1,validation_data=val_generator.flow(x_val, y_val))"
      ],
      "metadata": {
        "colab": {
          "base_uri": "https://localhost:8080/"
        },
        "id": "EwmoUhOlZttU",
        "outputId": "6e0579bc-99c3-48ea-af2a-3a71bac56a07"
      },
      "execution_count": null,
      "outputs": [
        {
          "output_type": "stream",
          "name": "stdout",
          "text": [
            "Epoch 1/100\n",
            "121/121 [==============================] - 169s 1s/step - loss: 0.7874 - accuracy: 0.7596 - val_loss: 0.5735 - val_accuracy: 0.8134 - lr: 0.0010\n",
            "Epoch 2/100\n",
            "121/121 [==============================] - 169s 1s/step - loss: 0.4766 - accuracy: 0.8484 - val_loss: 0.3890 - val_accuracy: 0.8699 - lr: 0.0010\n",
            "Epoch 3/100\n",
            "121/121 [==============================] - 166s 1s/step - loss: 0.3728 - accuracy: 0.8737 - val_loss: 0.3718 - val_accuracy: 0.8771 - lr: 0.0010\n",
            "Epoch 4/100\n",
            "121/121 [==============================] - 169s 1s/step - loss: 0.4181 - accuracy: 0.8691 - val_loss: 0.3389 - val_accuracy: 0.8854 - lr: 0.0010\n",
            "Epoch 5/100\n",
            "121/121 [==============================] - 167s 1s/step - loss: 0.3845 - accuracy: 0.8809 - val_loss: 0.3389 - val_accuracy: 0.8907 - lr: 0.0010\n",
            "Epoch 6/100\n",
            "121/121 [==============================] - 168s 1s/step - loss: 0.4119 - accuracy: 0.8753 - val_loss: 0.4233 - val_accuracy: 0.8746 - lr: 0.0010\n",
            "Epoch 7/100\n",
            "121/121 [==============================] - 168s 1s/step - loss: 0.3331 - accuracy: 0.8866 - val_loss: 0.3263 - val_accuracy: 0.8893 - lr: 5.0000e-04\n",
            "Epoch 8/100\n",
            "121/121 [==============================] - 169s 1s/step - loss: 0.3143 - accuracy: 0.8931 - val_loss: 0.2948 - val_accuracy: 0.8996 - lr: 5.0000e-04\n",
            "Epoch 9/100\n",
            "121/121 [==============================] - 169s 1s/step - loss: 0.3173 - accuracy: 0.8923 - val_loss: 0.3568 - val_accuracy: 0.8680 - lr: 5.0000e-04\n",
            "Epoch 10/100\n",
            "121/121 [==============================] - 169s 1s/step - loss: 0.3283 - accuracy: 0.8913 - val_loss: 0.3142 - val_accuracy: 0.8936 - lr: 5.0000e-04\n",
            "Epoch 11/100\n",
            "121/121 [==============================] - 170s 1s/step - loss: 0.3006 - accuracy: 0.8972 - val_loss: 0.3770 - val_accuracy: 0.8827 - lr: 5.0000e-04\n",
            "Epoch 12/100\n",
            "121/121 [==============================] - ETA: 0s - loss: 0.3408 - accuracy: 0.8832Epoch 13/100\n",
            "121/121 [==============================] - 168s 1s/step - loss: 0.2980 - accuracy: 0.8949 - val_loss: 0.2911 - val_accuracy: 0.8986 - lr: 5.0000e-04\n",
            "Epoch 14/100\n",
            "121/121 [==============================] - 167s 1s/step - loss: 0.3080 - accuracy: 0.8954 - val_loss: 0.2864 - val_accuracy: 0.8930 - lr: 5.0000e-04\n",
            "Epoch 15/100\n",
            "121/121 [==============================] - 166s 1s/step - loss: 0.3218 - accuracy: 0.8866 - val_loss: 0.3534 - val_accuracy: 0.8843 - lr: 5.0000e-04\n",
            "Epoch 16/100\n",
            "121/121 [==============================] - 165s 1s/step - loss: 0.2961 - accuracy: 0.9024 - val_loss: 0.2608 - val_accuracy: 0.9067 - lr: 5.0000e-04\n",
            "Epoch 17/100\n",
            "121/121 [==============================] - 168s 1s/step - loss: 0.2849 - accuracy: 0.9013 - val_loss: 0.3226 - val_accuracy: 0.8883 - lr: 5.0000e-04\n",
            "Epoch 18/100\n",
            "121/121 [==============================] - 168s 1s/step - loss: 0.2698 - accuracy: 0.9075 - val_loss: 0.2663 - val_accuracy: 0.9038 - lr: 5.0000e-04\n",
            "Epoch 19/100\n",
            "121/121 [==============================] - 169s 1s/step - loss: 0.2878 - accuracy: 0.8980 - val_loss: 0.3744 - val_accuracy: 0.8841 - lr: 5.0000e-04\n",
            "Epoch 20/100\n",
            "121/121 [==============================] - 168s 1s/step - loss: 0.2971 - accuracy: 0.8967 - val_loss: 0.2715 - val_accuracy: 0.9065 - lr: 5.0000e-04\n",
            "Epoch 21/100\n",
            "121/121 [==============================] - 168s 1s/step - loss: 0.2871 - accuracy: 0.8964 - val_loss: 0.2626 - val_accuracy: 0.9063 - lr: 5.0000e-04\n",
            "Epoch 22/100\n",
            "121/121 [==============================] - 168s 1s/step - loss: 0.2473 - accuracy: 0.9089 - val_loss: 0.2624 - val_accuracy: 0.9025 - lr: 2.5000e-04\n",
            "Epoch 23/100\n",
            "121/121 [==============================] - 168s 1s/step - loss: 0.2348 - accuracy: 0.9194 - val_loss: 0.2442 - val_accuracy: 0.9104 - lr: 2.5000e-04\n",
            "Epoch 24/100\n",
            "121/121 [==============================] - 169s 1s/step - loss: 0.2719 - accuracy: 0.9024 - val_loss: 0.2589 - val_accuracy: 0.9046 - lr: 2.5000e-04\n",
            "Epoch 25/100\n",
            "121/121 [==============================] - 170s 1s/step - loss: 0.2541 - accuracy: 0.9052 - val_loss: 0.2549 - val_accuracy: 0.9025 - lr: 2.5000e-04\n",
            "Epoch 26/100\n",
            "121/121 [==============================] - 173s 1s/step - loss: 0.2576 - accuracy: 0.9093 - val_loss: 0.2597 - val_accuracy: 0.9077 - lr: 2.5000e-04\n",
            "Epoch 27/100\n",
            "121/121 [==============================] - 174s 1s/step - loss: 0.2647 - accuracy: 0.9055 - val_loss: 0.2633 - val_accuracy: 0.9100 - lr: 1.2500e-04\n",
            "Epoch 28/100\n",
            "121/121 [==============================] - 173s 1s/step - loss: 0.2364 - accuracy: 0.9073 - val_loss: 0.2454 - val_accuracy: 0.9063 - lr: 1.2500e-04\n",
            "Epoch 29/100\n",
            "121/121 [==============================] - 172s 1s/step - loss: 0.2640 - accuracy: 0.9066 - val_loss: 0.2562 - val_accuracy: 0.9083 - lr: 1.2500e-04\n",
            "Epoch 30/100\n",
            "121/121 [==============================] - 168s 1s/step - loss: 0.2360 - accuracy: 0.9163 - val_loss: 0.2783 - val_accuracy: 0.9032 - lr: 6.2500e-05\n",
            "Epoch 31/100\n",
            "121/121 [==============================] - 168s 1s/step - loss: 0.2370 - accuracy: 0.9155 - val_loss: 0.2372 - val_accuracy: 0.9156 - lr: 6.2500e-05\n",
            "Epoch 32/100\n",
            "121/121 [==============================] - 167s 1s/step - loss: 0.2376 - accuracy: 0.9148 - val_loss: 0.2338 - val_accuracy: 0.9135 - lr: 6.2500e-05\n",
            "Epoch 33/100\n",
            "121/121 [==============================] - 165s 1s/step - loss: 0.2280 - accuracy: 0.9172 - val_loss: 0.2482 - val_accuracy: 0.9131 - lr: 3.1250e-05\n",
            "Epoch 34/100\n",
            "121/121 [==============================] - 166s 1s/step - loss: 0.2386 - accuracy: 0.9176 - val_loss: 0.2625 - val_accuracy: 0.9077 - lr: 3.1250e-05\n",
            "Epoch 35/100\n",
            "121/121 [==============================] - 166s 1s/step - loss: 0.2476 - accuracy: 0.9114 - val_loss: 0.2365 - val_accuracy: 0.9148 - lr: 3.1250e-05\n",
            "Epoch 36/100\n",
            "121/121 [==============================] - 165s 1s/step - loss: 0.2325 - accuracy: 0.9155 - val_loss: 0.2412 - val_accuracy: 0.9166 - lr: 3.1250e-05\n",
            "Epoch 37/100\n",
            "121/121 [==============================] - 165s 1s/step - loss: 0.2410 - accuracy: 0.9109 - val_loss: 0.2448 - val_accuracy: 0.9121 - lr: 1.5625e-05\n",
            "Epoch 38/100\n",
            "121/121 [==============================] - 165s 1s/step - loss: 0.2402 - accuracy: 0.9075 - val_loss: 0.2543 - val_accuracy: 0.9065 - lr: 1.5625e-05\n",
            "Epoch 39/100\n",
            "121/121 [==============================] - 165s 1s/step - loss: 0.2394 - accuracy: 0.9132 - val_loss: 0.2366 - val_accuracy: 0.9133 - lr: 1.5625e-05\n",
            "Epoch 40/100\n",
            "121/121 [==============================] - 165s 1s/step - loss: 0.2455 - accuracy: 0.9112 - val_loss: 0.2410 - val_accuracy: 0.9069 - lr: 1.0000e-05\n",
            "Epoch 41/100\n",
            "121/121 [==============================] - 165s 1s/step - loss: 0.2418 - accuracy: 0.9135 - val_loss: 0.2323 - val_accuracy: 0.9112 - lr: 1.0000e-05\n",
            "Epoch 42/100\n",
            "121/121 [==============================] - 166s 1s/step - loss: 0.2376 - accuracy: 0.9093 - val_loss: 0.2468 - val_accuracy: 0.9131 - lr: 1.0000e-05\n",
            "Epoch 43/100\n",
            "121/121 [==============================] - 166s 1s/step - loss: 0.2348 - accuracy: 0.9164 - val_loss: 0.2525 - val_accuracy: 0.9054 - lr: 1.0000e-05\n",
            "Epoch 44/100\n",
            "121/121 [==============================] - 167s 1s/step - loss: 0.2395 - accuracy: 0.9114 - val_loss: 0.2411 - val_accuracy: 0.9127 - lr: 1.0000e-05\n",
            "Epoch 45/100\n",
            "121/121 [==============================] - 166s 1s/step - loss: 0.2639 - accuracy: 0.9029 - val_loss: 0.2381 - val_accuracy: 0.9085 - lr: 1.0000e-05\n",
            "Epoch 46/100\n",
            "121/121 [==============================] - 166s 1s/step - loss: 0.2335 - accuracy: 0.9149 - val_loss: 0.2430 - val_accuracy: 0.9075 - lr: 1.0000e-05\n",
            "Epoch 47/100\n",
            "121/121 [==============================] - 167s 1s/step - loss: 0.2407 - accuracy: 0.9099 - val_loss: 0.2496 - val_accuracy: 0.9098 - lr: 1.0000e-05\n",
            "Epoch 48/100\n",
            "121/121 [==============================] - 167s 1s/step - loss: 0.2432 - accuracy: 0.9099 - val_loss: 0.2477 - val_accuracy: 0.9050 - lr: 1.0000e-05\n",
            "Epoch 49/100\n",
            "121/121 [==============================] - 167s 1s/step - loss: 0.2332 - accuracy: 0.9127 - val_loss: 0.2378 - val_accuracy: 0.9112 - lr: 1.0000e-05\n",
            "Epoch 50/100\n",
            "121/121 [==============================] - 167s 1s/step - loss: 0.2501 - accuracy: 0.9094 - val_loss: 0.2377 - val_accuracy: 0.9117 - lr: 1.0000e-05\n",
            "Epoch 51/100\n",
            "121/121 [==============================] - 168s 1s/step - loss: 0.2363 - accuracy: 0.9124 - val_loss: 0.2394 - val_accuracy: 0.9094 - lr: 1.0000e-05\n"
          ]
        }
      ]
    },
    {
      "cell_type": "code",
      "source": [
        "resnet.save('/content/resnet')"
      ],
      "metadata": {
        "colab": {
          "base_uri": "https://localhost:8080/"
        },
        "id": "helIeK0Yu5q-",
        "outputId": "945ef629-6afe-43f0-a5fe-7c6505760792"
      },
      "execution_count": null,
      "outputs": [
        {
          "output_type": "stream",
          "name": "stdout",
          "text": [
            "INFO:tensorflow:Assets written to: /content/resnet/assets\n"
          ]
        }
      ]
    },
    {
      "cell_type": "code",
      "source": [
        "predict_x=(resnet.predict(x_test) > 0.5).astype(\"int32\")\n",
        "pred=np.array(predict_x)\n",
        "\n",
        "confusion_mtx=confusion_matrix(y_test,pred)\n",
        "print(confusion_mtx)\n",
        "cr = classification_report(y_test, pred)\n",
        "print(\"\\n\\nClassification Report\\n\")\n",
        "print(cr)"
      ],
      "metadata": {
        "colab": {
          "base_uri": "https://localhost:8080/"
        },
        "id": "mbSx9oeIZ2ce",
        "outputId": "73f80cf2-0b6b-4e85-800f-ef5085b26d37"
      },
      "execution_count": null,
      "outputs": [
        {
          "output_type": "stream",
          "name": "stdout",
          "text": [
            "[[3313  132]\n",
            " [ 322 3123]]\n",
            "\n",
            "\n",
            "Classification Report\n",
            "\n",
            "              precision    recall  f1-score   support\n",
            "\n",
            "           0       0.91      0.96      0.94      3445\n",
            "           1       0.96      0.91      0.93      3445\n",
            "\n",
            "    accuracy                           0.93      6890\n",
            "   macro avg       0.94      0.93      0.93      6890\n",
            "weighted avg       0.94      0.93      0.93      6890\n",
            "\n"
          ]
        }
      ]
    },
    {
      "cell_type": "code",
      "source": [
        "plt.plot(resnet_history.history['accuracy'])\n",
        "plt.plot(resnet_history.history['val_accuracy'])\n",
        "plt.title('model accuracy')\n",
        "plt.ylabel('accuracy')\n",
        "plt.xlabel('epoch')\n",
        "plt.legend(['train', 'validation'], loc='upper left')\n",
        "plt.show()\n",
        "# summarize history for loss\n",
        "plt.plot(resnet_history.history['loss'])\n",
        "plt.plot(resnet_history.history['val_loss'])\n",
        "plt.title('model loss')\n",
        "plt.ylabel('loss')\n",
        "plt.xlabel('epoch')\n",
        "plt.legend(['train', 'validation'], loc='upper left')\n",
        "plt.show()"
      ],
      "metadata": {
        "colab": {
          "base_uri": "https://localhost:8080/",
          "height": 573
        },
        "id": "m0dJON7sZ5GE",
        "outputId": "7c22bd34-7dac-435f-8691-b34c136464ae"
      },
      "execution_count": null,
      "outputs": [
        {
          "output_type": "display_data",
          "data": {
            "image/png": "[encoded data removed]",
            "text/plain": [
              "<Figure size 432x288 with 1 Axes>"
            ]
          },
          "metadata": {
            "needs_background": "light"
          }
        },
        {
          "output_type": "display_data",
          "data": {
            "image/png": "[encoded data removed]",
            "text/plain": [
              "<Figure size 432x288 with 1 Axes>"
            ]
          },
          "metadata": {
            "needs_background": "light"
          }
        }
      ]
    },
    {
      "cell_type": "markdown",
      "source": [
        "### **Inception V3**"
      ],
      "metadata": {
        "id": "RZdoqlxdZ74_"
      }
    },
    {
      "cell_type": "code",
      "source": [
        "from keras.applications.inception_v3 import InceptionV3\n",
        "from tensorflow.keras.models import Model\n",
        "\n",
        "base_model = InceptionV3(weights='imagenet', \n",
        "                                include_top=False, \n",
        "                                input_shape=(180, 180,3))\n",
        "base_model.trainable = False\n",
        "\n",
        "# x = base_model.output\n",
        "# out = Dense(1, activation=\"sigmoid\")(x)\n",
        "\n",
        "# our layers\n",
        "x = Flatten()(base_model.output)\n",
        "prediction = Dense(1, activation='sigmoid')(x)\n",
        "\n",
        "inception = Model(inputs=base_model.input, outputs=prediction)\n",
        "\n",
        "\n",
        "inception.compile(loss='binary_crossentropy', \n",
        "              optimizer='adam',\n",
        "              metrics=['accuracy'])"
      ],
      "metadata": {
        "id": "MlU3kAJzaJr9"
      },
      "execution_count": null,
      "outputs": []
    },
    {
      "cell_type": "code",
      "source": [
        "inception_history=inception.fit(train_generator.flow(x_train, y_train), epochs = epochs, steps_per_epoch = x_train.shape[0]//batch_size, callbacks = [lrr,earlystop], verbose=1,\n",
        "                                validation_data=val_generator.flow(x_val, y_val))"
      ],
      "metadata": {
        "colab": {
          "base_uri": "https://localhost:8080/"
        },
        "id": "sxcWHigOaMPn",
        "outputId": "e6ba6beb-76b5-4555-9e77-42261fd3c16c"
      },
      "execution_count": null,
      "outputs": [
        {
          "metadata": {
            "tags": null
          },
          "name": "stdout",
          "output_type": "stream",
          "text": [
            "Epoch 1/100\n",
            "121/121 [==============================] - 104s 830ms/step - loss: 15.6079 - accuracy: 0.6077 - val_loss: 9.2063 - val_accuracy: 0.6325 - lr: 0.0010\n",
            "Epoch 2/100\n",
            "121/121 [==============================] - 99s 817ms/step - loss: 8.0783 - accuracy: 0.6519 - val_loss: 5.0880 - val_accuracy: 0.6840 - lr: 0.0010\n",
            "Epoch 3/100\n",
            "121/121 [==============================] - 101s 837ms/step - loss: 10.8831 - accuracy: 0.6395 - val_loss: 8.6372 - val_accuracy: 0.6259 - lr: 0.0010\n",
            "Epoch 4/100\n",
            "121/121 [==============================] - 101s 837ms/step - loss: 11.8553 - accuracy: 0.6619 - val_loss: 14.1651 - val_accuracy: 0.6394 - lr: 0.0010\n",
            "Epoch 5/100\n",
            "121/121 [==============================] - 101s 834ms/step - loss: 9.3393 - accuracy: 0.6767 - val_loss: 11.7769 - val_accuracy: 0.6921 - lr: 0.0010\n",
            "Epoch 6/100\n",
            "121/121 [==============================] - 100s 829ms/step - loss: 5.7609 - accuracy: 0.7265 - val_loss: 4.1302 - val_accuracy: 0.7469 - lr: 5.0000e-04\n",
            "Epoch 7/100\n",
            "121/121 [==============================] - 100s 830ms/step - loss: 5.4276 - accuracy: 0.6983 - val_loss: 5.2267 - val_accuracy: 0.6745 - lr: 5.0000e-04\n",
            "Epoch 8/100\n",
            "121/121 [==============================] - 100s 829ms/step - loss: 4.5042 - accuracy: 0.7210 - val_loss: 3.7360 - val_accuracy: 0.7436 - lr: 5.0000e-04\n",
            "Epoch 9/100\n",
            "121/121 [==============================] - 99s 822ms/step - loss: 4.7890 - accuracy: 0.7051 - val_loss: 2.9976 - val_accuracy: 0.7441 - lr: 5.0000e-04\n",
            "Epoch 10/100\n",
            "121/121 [==============================] - 100s 826ms/step - loss: 6.0097 - accuracy: 0.6834 - val_loss: 8.6450 - val_accuracy: 0.6781 - lr: 5.0000e-04\n",
            "Epoch 11/100\n",
            "121/121 [==============================] - 100s 829ms/step - loss: 6.2437 - accuracy: 0.6888 - val_loss: 6.7034 - val_accuracy: 0.6903 - lr: 5.0000e-04\n",
            "Epoch 12/100\n",
            "121/121 [==============================] - 102s 846ms/step - loss: 3.7888 - accuracy: 0.7332 - val_loss: 3.6969 - val_accuracy: 0.7440 - lr: 2.5000e-04\n",
            "Epoch 13/100\n",
            "121/121 [==============================] - 101s 841ms/step - loss: 3.5819 - accuracy: 0.7255 - val_loss: 2.4812 - val_accuracy: 0.7478 - lr: 2.5000e-04\n",
            "Epoch 14/100\n",
            "121/121 [==============================] - 100s 833ms/step - loss: 3.6414 - accuracy: 0.7291 - val_loss: 2.9485 - val_accuracy: 0.7356 - lr: 2.5000e-04\n",
            "Epoch 15/100\n",
            "121/121 [==============================] - 100s 829ms/step - loss: 3.3625 - accuracy: 0.7188 - val_loss: 3.2295 - val_accuracy: 0.7451 - lr: 2.5000e-04\n",
            "Epoch 16/100\n",
            "121/121 [==============================] - 102s 844ms/step - loss: 2.9605 - accuracy: 0.7420 - val_loss: 2.2900 - val_accuracy: 0.7558 - lr: 2.5000e-04\n",
            "Epoch 17/100\n",
            "121/121 [==============================] - 102s 848ms/step - loss: 3.3046 - accuracy: 0.7110 - val_loss: 2.1924 - val_accuracy: 0.7649 - lr: 2.5000e-04\n",
            "Epoch 18/100\n",
            "121/121 [==============================] - 100s 830ms/step - loss: 3.2825 - accuracy: 0.7159 - val_loss: 6.7348 - val_accuracy: 0.6687 - lr: 2.5000e-04\n",
            "Epoch 19/100\n",
            "121/121 [==============================] - 98s 810ms/step - loss: 3.1939 - accuracy: 0.7337 - val_loss: 4.2696 - val_accuracy: 0.6449 - lr: 2.5000e-04\n",
            "Epoch 20/100\n",
            "121/121 [==============================] - 99s 818ms/step - loss: 2.6840 - accuracy: 0.7379 - val_loss: 2.4567 - val_accuracy: 0.7161 - lr: 1.2500e-04\n",
            "Epoch 21/100\n",
            "121/121 [==============================] - 99s 820ms/step - loss: 2.2408 - accuracy: 0.7562 - val_loss: 2.0335 - val_accuracy: 0.7683 - lr: 1.2500e-04\n",
            "Epoch 22/100\n",
            "121/121 [==============================] - 99s 820ms/step - loss: 2.5840 - accuracy: 0.7316 - val_loss: 1.8965 - val_accuracy: 0.7620 - lr: 1.2500e-04\n",
            "Epoch 23/100\n",
            "121/121 [==============================] - 97s 804ms/step - loss: 2.2208 - accuracy: 0.7405 - val_loss: 1.7990 - val_accuracy: 0.7583 - lr: 1.2500e-04\n",
            "Epoch 24/100\n",
            "121/121 [==============================] - 97s 805ms/step - loss: 2.0489 - accuracy: 0.7402 - val_loss: 3.0737 - val_accuracy: 0.7252 - lr: 1.2500e-04\n",
            "Epoch 25/100\n",
            "121/121 [==============================] - 97s 802ms/step - loss: 2.8480 - accuracy: 0.7188 - val_loss: 2.2974 - val_accuracy: 0.7453 - lr: 1.2500e-04\n",
            "Epoch 26/100\n",
            "121/121 [==============================] - 97s 805ms/step - loss: 2.0281 - accuracy: 0.7490 - val_loss: 1.6970 - val_accuracy: 0.7573 - lr: 1.2500e-04\n",
            "Epoch 27/100\n",
            "121/121 [==============================] - 97s 806ms/step - loss: 2.3550 - accuracy: 0.7234 - val_loss: 2.1992 - val_accuracy: 0.7540 - lr: 1.2500e-04\n",
            "Epoch 28/100\n",
            "121/121 [==============================] - 97s 805ms/step - loss: 1.9999 - accuracy: 0.7417 - val_loss: 2.0813 - val_accuracy: 0.6954 - lr: 1.2500e-04\n",
            "Epoch 29/100\n",
            "121/121 [==============================] - 97s 803ms/step - loss: 2.2915 - accuracy: 0.7322 - val_loss: 1.8817 - val_accuracy: 0.7370 - lr: 1.2500e-04\n",
            "Epoch 30/100\n",
            "121/121 [==============================] - 97s 805ms/step - loss: 2.0448 - accuracy: 0.7410 - val_loss: 1.6590 - val_accuracy: 0.7530 - lr: 1.2500e-04\n",
            "Epoch 31/100\n",
            "121/121 [==============================] - 98s 808ms/step - loss: 1.9020 - accuracy: 0.7518 - val_loss: 2.5045 - val_accuracy: 0.7409 - lr: 1.2500e-04\n",
            "Epoch 32/100\n",
            "121/121 [==============================] - 100s 832ms/step - loss: 2.0354 - accuracy: 0.7363 - val_loss: 2.8716 - val_accuracy: 0.6619 - lr: 1.2500e-04\n",
            "Epoch 33/100\n",
            "121/121 [==============================] - 97s 803ms/step - loss: 2.2592 - accuracy: 0.7272 - val_loss: 2.4013 - val_accuracy: 0.7418 - lr: 1.2500e-04\n",
            "Epoch 34/100\n",
            "121/121 [==============================] - 97s 801ms/step - loss: 2.2140 - accuracy: 0.7316 - val_loss: 2.4790 - val_accuracy: 0.7306 - lr: 1.2500e-04\n",
            "Epoch 35/100\n",
            "121/121 [==============================] - 97s 803ms/step - loss: 1.8023 - accuracy: 0.7497 - val_loss: 1.6003 - val_accuracy: 0.7654 - lr: 6.2500e-05\n",
            "Epoch 36/100\n",
            "121/121 [==============================] - 97s 804ms/step - loss: 1.5125 - accuracy: 0.7606 - val_loss: 1.6713 - val_accuracy: 0.7587 - lr: 6.2500e-05\n",
            "Epoch 37/100\n",
            "121/121 [==============================] - 97s 804ms/step - loss: 1.6394 - accuracy: 0.7559 - val_loss: 1.9323 - val_accuracy: 0.6872 - lr: 6.2500e-05\n",
            "Epoch 38/100\n",
            "121/121 [==============================] - 97s 800ms/step - loss: 1.7784 - accuracy: 0.7428 - val_loss: 1.4559 - val_accuracy: 0.7530 - lr: 6.2500e-05\n",
            "Epoch 39/100\n",
            "121/121 [==============================] - 96s 800ms/step - loss: 1.6561 - accuracy: 0.7524 - val_loss: 2.2041 - val_accuracy: 0.6704 - lr: 6.2500e-05\n",
            "Epoch 40/100\n",
            "121/121 [==============================] - 98s 811ms/step - loss: 1.3635 - accuracy: 0.7683 - val_loss: 1.4743 - val_accuracy: 0.7321 - lr: 3.1250e-05\n",
            "Epoch 41/100\n",
            "121/121 [==============================] - 98s 815ms/step - loss: 1.4292 - accuracy: 0.7583 - val_loss: 1.3474 - val_accuracy: 0.7585 - lr: 3.1250e-05\n",
            "Epoch 42/100\n",
            "121/121 [==============================] - 98s 816ms/step - loss: 1.3627 - accuracy: 0.7627 - val_loss: 1.3884 - val_accuracy: 0.7761 - lr: 3.1250e-05\n",
            "Epoch 43/100\n",
            "121/121 [==============================] - 99s 817ms/step - loss: 1.4170 - accuracy: 0.7616 - val_loss: 1.4431 - val_accuracy: 0.7370 - lr: 3.1250e-05\n",
            "Epoch 44/100\n",
            "121/121 [==============================] - 98s 815ms/step - loss: 1.3680 - accuracy: 0.7636 - val_loss: 1.2423 - val_accuracy: 0.7780 - lr: 3.1250e-05\n",
            "Epoch 45/100\n",
            "121/121 [==============================] - 98s 812ms/step - loss: 1.3108 - accuracy: 0.7567 - val_loss: 1.3078 - val_accuracy: 0.7542 - lr: 3.1250e-05\n",
            "Epoch 46/100\n",
            "121/121 [==============================] - 98s 809ms/step - loss: 1.3414 - accuracy: 0.7673 - val_loss: 1.2525 - val_accuracy: 0.7492 - lr: 3.1250e-05\n",
            "Epoch 47/100\n",
            "121/121 [==============================] - 96s 800ms/step - loss: 1.4051 - accuracy: 0.7526 - val_loss: 1.4791 - val_accuracy: 0.7234 - lr: 3.1250e-05\n",
            "Epoch 48/100\n",
            "121/121 [==============================] - 97s 802ms/step - loss: 1.3131 - accuracy: 0.7614 - val_loss: 1.4417 - val_accuracy: 0.7652 - lr: 3.1250e-05\n",
            "Epoch 49/100\n",
            "121/121 [==============================] - 97s 803ms/step - loss: 1.3275 - accuracy: 0.7627 - val_loss: 1.5991 - val_accuracy: 0.7579 - lr: 1.5625e-05\n",
            "Epoch 50/100\n",
            "121/121 [==============================] - 98s 813ms/step - loss: 1.3209 - accuracy: 0.7536 - val_loss: 1.3477 - val_accuracy: 0.7650 - lr: 1.5625e-05\n",
            "Epoch 51/100\n",
            "121/121 [==============================] - 98s 815ms/step - loss: 1.3150 - accuracy: 0.7598 - val_loss: 1.3165 - val_accuracy: 0.7385 - lr: 1.5625e-05\n",
            "Epoch 52/100\n",
            "121/121 [==============================] - 98s 811ms/step - loss: 1.3502 - accuracy: 0.7541 - val_loss: 1.2419 - val_accuracy: 0.7703 - lr: 1.0000e-05\n",
            "Epoch 53/100\n",
            "121/121 [==============================] - 98s 808ms/step - loss: 1.3107 - accuracy: 0.7503 - val_loss: 1.1708 - val_accuracy: 0.7732 - lr: 1.0000e-05\n",
            "Epoch 54/100\n",
            "121/121 [==============================] - 97s 808ms/step - loss: 1.1905 - accuracy: 0.7722 - val_loss: 1.2060 - val_accuracy: 0.7596 - lr: 1.0000e-05\n",
            "Epoch 55/100\n",
            "121/121 [==============================] - 97s 808ms/step - loss: 1.2296 - accuracy: 0.7676 - val_loss: 1.2235 - val_accuracy: 0.7600 - lr: 1.0000e-05\n",
            "Epoch 56/100\n",
            "121/121 [==============================] - 97s 805ms/step - loss: 1.1273 - accuracy: 0.7763 - val_loss: 1.1975 - val_accuracy: 0.7635 - lr: 1.0000e-05\n",
            "Epoch 57/100\n",
            "121/121 [==============================] - 97s 803ms/step - loss: 1.2296 - accuracy: 0.7545 - val_loss: 1.1757 - val_accuracy: 0.7753 - lr: 1.0000e-05\n",
            "Epoch 58/100\n",
            "121/121 [==============================] - 97s 802ms/step - loss: 1.1517 - accuracy: 0.7683 - val_loss: 1.1291 - val_accuracy: 0.7631 - lr: 1.0000e-05\n",
            "Epoch 59/100\n",
            "121/121 [==============================] - 97s 804ms/step - loss: 1.0832 - accuracy: 0.7782 - val_loss: 1.2434 - val_accuracy: 0.7693 - lr: 1.0000e-05\n",
            "Epoch 60/100\n",
            "121/121 [==============================] - 97s 801ms/step - loss: 1.1911 - accuracy: 0.7700 - val_loss: 1.1991 - val_accuracy: 0.7590 - lr: 1.0000e-05\n",
            "Epoch 61/100\n",
            "121/121 [==============================] - 97s 801ms/step - loss: 1.1433 - accuracy: 0.7651 - val_loss: 1.2270 - val_accuracy: 0.7649 - lr: 1.0000e-05\n",
            "Epoch 62/100\n",
            "121/121 [==============================] - 97s 802ms/step - loss: 1.1029 - accuracy: 0.7778 - val_loss: 1.1579 - val_accuracy: 0.7709 - lr: 1.0000e-05\n",
            "Epoch 63/100\n",
            "121/121 [==============================] - 97s 803ms/step - loss: 1.1895 - accuracy: 0.7621 - val_loss: 1.1188 - val_accuracy: 0.7759 - lr: 1.0000e-05\n",
            "Epoch 64/100\n",
            "121/121 [==============================] - 97s 801ms/step - loss: 1.1492 - accuracy: 0.7789 - val_loss: 1.1632 - val_accuracy: 0.7558 - lr: 1.0000e-05\n",
            "Epoch 65/100\n",
            "121/121 [==============================] - 97s 804ms/step - loss: 1.1365 - accuracy: 0.7658 - val_loss: 1.1858 - val_accuracy: 0.7741 - lr: 1.0000e-05\n",
            "Epoch 66/100\n",
            "121/121 [==============================] - 98s 811ms/step - loss: 1.1670 - accuracy: 0.7722 - val_loss: 1.1822 - val_accuracy: 0.7650 - lr: 1.0000e-05\n",
            "Epoch 67/100\n",
            "121/121 [==============================] - 97s 807ms/step - loss: 1.1161 - accuracy: 0.7706 - val_loss: 1.1355 - val_accuracy: 0.7583 - lr: 1.0000e-05\n",
            "Epoch 68/100\n",
            "121/121 [==============================] - 97s 803ms/step - loss: 1.2174 - accuracy: 0.7627 - val_loss: 1.4355 - val_accuracy: 0.7558 - lr: 1.0000e-05\n",
            "Epoch 69/100\n",
            "121/121 [==============================] - 97s 802ms/step - loss: 1.2482 - accuracy: 0.7565 - val_loss: 1.1346 - val_accuracy: 0.7656 - lr: 1.0000e-05\n",
            "Epoch 70/100\n",
            "121/121 [==============================] - 96s 800ms/step - loss: 1.1294 - accuracy: 0.7722 - val_loss: 1.2275 - val_accuracy: 0.7697 - lr: 1.0000e-05\n",
            "Epoch 71/100\n",
            "121/121 [==============================] - 97s 801ms/step - loss: 1.1741 - accuracy: 0.7637 - val_loss: 1.1799 - val_accuracy: 0.7527 - lr: 1.0000e-05\n",
            "Epoch 72/100\n",
            "121/121 [==============================] - 97s 801ms/step - loss: 1.1085 - accuracy: 0.7714 - val_loss: 1.2017 - val_accuracy: 0.7459 - lr: 1.0000e-05\n",
            "Epoch 73/100\n",
            "121/121 [==============================] - 97s 803ms/step - loss: 1.1841 - accuracy: 0.7693 - val_loss: 1.1912 - val_accuracy: 0.7716 - lr: 1.0000e-05\n"
          ]
        }
      ]
    },
    {
      "cell_type": "code",
      "source": [
        "inception.save('/content/inception')"
      ],
      "metadata": {
        "colab": {
          "base_uri": "https://localhost:8080/"
        },
        "id": "xFYskpPUZOp2",
        "outputId": "9559bde8-9b8b-4e9b-e2d1-91d4db586def"
      },
      "execution_count": null,
      "outputs": [
        {
          "metadata": {
            "tags": null
          },
          "name": "stdout",
          "output_type": "stream",
          "text": [
            "INFO:tensorflow:Assets written to: /content/inception/assets\n"
          ]
        }
      ]
    },
    {
      "cell_type": "code",
      "source": [
        "predict_x=(inception.predict(x_test) > 0.5).astype(\"int32\")\n",
        "pred=np.array(predict_x)\n",
        "\n",
        "confusion_mtx=confusion_matrix(y_test,pred)\n",
        "print(confusion_mtx)\n",
        "cr = classification_report(y_test, pred)\n",
        "print(\"\\n\\nClassification Report\\n\")\n",
        "print(cr)"
      ],
      "metadata": {
        "colab": {
          "base_uri": "https://localhost:8080/"
        },
        "id": "C_sRCODDaTAj",
        "outputId": "aff4ec74-a6b5-4fe9-9676-db68f5db3860"
      },
      "execution_count": null,
      "outputs": [
        {
          "metadata": {
            "tags": null
          },
          "name": "stdout",
          "output_type": "stream",
          "text": [
            "[[2819  626]\n",
            " [ 691 2754]]\n",
            "\n",
            "\n",
            "Classification Report\n",
            "\n",
            "              precision    recall  f1-score   support\n",
            "\n",
            "           0       0.80      0.82      0.81      3445\n",
            "           1       0.81      0.80      0.81      3445\n",
            "\n",
            "    accuracy                           0.81      6890\n",
            "   macro avg       0.81      0.81      0.81      6890\n",
            "weighted avg       0.81      0.81      0.81      6890\n",
            "\n"
          ]
        }
      ]
    },
    {
      "cell_type": "code",
      "source": [
        "plt.plot(inception_history.history['accuracy'])\n",
        "plt.plot(inception_history.history['val_accuracy'])\n",
        "plt.title('model accuracy')\n",
        "plt.ylabel('accuracy')\n",
        "plt.xlabel('epoch')\n",
        "plt.legend(['train', 'validation'], loc='upper left')\n",
        "plt.show()\n",
        "# summarize history for loss\n",
        "plt.plot(inception_history.history['loss'])\n",
        "plt.plot(inception_history.history['val_loss'])\n",
        "plt.title('model loss')\n",
        "plt.ylabel('loss')\n",
        "plt.xlabel('epoch')\n",
        "plt.legend(['train', 'validation'], loc='upper left')\n",
        "plt.show()"
      ],
      "metadata": {
        "colab": {
          "base_uri": "https://localhost:8080/",
          "height": 573
        },
        "id": "JmHL9qsbaVam",
        "outputId": "430e423d-a7cd-4406-c5c6-b972b4cb2cd6"
      },
      "execution_count": null,
      "outputs": [
        {
          "data": {
            "image/png": "[encoded data removed]",
            "text/plain": [
              "<Figure size 432x288 with 1 Axes>"
            ]
          },
          "metadata": {},
          "output_type": "display_data"
        },
        {
          "data": {
            "image/png": "[encoded data removed]",
            "text/plain": [
              "<Figure size 432x288 with 1 Axes>"
            ]
          },
          "metadata": {},
          "output_type": "display_data"
        }
      ]
    }
  ],
  "metadata": {
    "colab": {
      "collapsed_sections": [
        "PMmrlkVMJ8gn",
        "RZdoqlxdZ74_"
      ],
      "name": "97% accuracy.ipynb",
      "provenance": [],
      "toc_visible": true
    },
    "kernelspec": {
      "display_name": "Python 3",
      "name": "python3"
    },
    "language_info": {
      "name": "python"
    }
  },
  "nbformat": 4,
  "nbformat_minor": 0
}